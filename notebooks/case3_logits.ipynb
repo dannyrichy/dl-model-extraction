{
 "cells": [
  {
   "cell_type": "code",
   "execution_count": 1,
   "metadata": {},
   "outputs": [
    {
     "data": {
      "text/plain": [
       "'/home/Aishu/dl-model-extraction'"
      ]
     },
     "execution_count": 1,
     "metadata": {},
     "output_type": "execute_result"
    }
   ],
   "source": [
    "import os\n",
    "os.chdir(\"../\")\n",
    "os.getcwd()"
   ]
  },
  {
   "cell_type": "code",
   "execution_count": 2,
   "metadata": {
    "id": "idQmKzBgZqug"
   },
   "outputs": [],
   "source": [
    "from attacker.training import *"
   ]
  },
  {
   "cell_type": "markdown",
   "metadata": {},
   "source": [
    "# Parameters"
   ]
  },
  {
   "cell_type": "markdown",
   "metadata": {},
   "source": [
    "## Case - 3"
   ]
  },
  {
   "cell_type": "raw",
   "metadata": {},
   "source": [
    "Case 3 : K-Logits vs Labels\n",
    "    Dataset - Cifar10\n",
    "    klogits - 0, 3, 10\n",
    "    QueryType - Random\n",
    "    Query Size - 10k, 30k, 50k\n",
    "    Attacker - Resnet34\n",
    "    Victim - Resnet50"
   ]
  },
  {
   "cell_type": "code",
   "execution_count": 3,
   "metadata": {},
   "outputs": [],
   "source": [
    "case3_logits = {\n",
    "        \"query_size\": [20000],\n",
    "        \"query_type\": ['coreset'],\n",
    "        \"victim\":[{ \"data\": CIFAR_10, \"model_name\": RESNET50}],\n",
    "        \"attacker\":[RESNET34],\n",
    "        \"k_logits\": [3, 10]\n",
    "}"
   ]
  },
  {
   "cell_type": "markdown",
   "metadata": {},
   "source": [
    "# Investigations"
   ]
  },
  {
   "cell_type": "markdown",
   "metadata": {},
   "source": [
    "## case - 3"
   ]
  },
  {
   "cell_type": "code",
   "execution_count": null,
   "metadata": {},
   "outputs": [
    {
     "name": "stdout",
     "output_type": "stream",
     "text": [
      "PARAMETERS for investigation:\n",
      "{'attacker': ['resnet34'],\n",
      " 'k_logits': [3, 10],\n",
      " 'query_size': [20000],\n",
      " 'query_type': ['coreset'],\n",
      " 'victim': [{'data': 'cifar_10', 'model_name': 'resnet50'}]}\n",
      "---------------------------------------------------------------------------\n",
      "Files already downloaded and verified\n",
      "Files already downloaded and verified\n",
      "Loading queried cifar_10 dataset with resnet50 victim\n",
      "\t- input:10000 queried:10000\n",
      "Sampling using None with query size 10000\n",
      "\t- input:10000 sampled:10000 data_augmentation:False\n",
      "Sampling using coreset with query size 20000\n",
      "\t- input:50000 sampled:20000 data_augmentation:None\n",
      "\n",
      "-----------------------------------------------------------------------------\n",
      "\tDataset: cifar_10\n",
      "\tVictim: resnet50\tAttacker: resnet34\n",
      "\tQuery Type: coreset\tQuery Size: 20000\tLogits: 3\n",
      "-----------------------------------------------------------------------------\n",
      "Total epochs to run: 100\n",
      "\tepoch 1\n",
      "\t- train_acc 0.39190 train_loss 1.30127\n",
      "\t- test_acc  0.33210 test_loss  2.01854\n",
      "\tepoch 2\n",
      "\t- train_acc 0.43605 train_loss 1.35628\n"
     ]
    }
   ],
   "source": [
    "investigate(case3_logits, verbose=True, seed=42)"
   ]
  },
  {
   "cell_type": "raw",
   "metadata": {},
   "source": [
    "investigate(config[\"base\"]) #to run default config"
   ]
  }
 ],
 "metadata": {
  "accelerator": "GPU",
  "colab": {
   "collapsed_sections": [],
   "name": "DL_Project",
   "provenance": []
  },
  "kernelspec": {
   "display_name": "Python [conda env:root] *",
   "language": "python",
   "name": "conda-root-py"
  },
  "language_info": {
   "codemirror_mode": {
    "name": "ipython",
    "version": 3
   },
   "file_extension": ".py",
   "mimetype": "text/x-python",
   "name": "python",
   "nbconvert_exporter": "python",
   "pygments_lexer": "ipython3",
   "version": "3.7.12"
  }
 },
 "nbformat": 4,
 "nbformat_minor": 1
}
