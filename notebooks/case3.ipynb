{
 "cells": [
  {
   "cell_type": "code",
   "execution_count": null,
   "metadata": {},
   "outputs": [],
   "source": [
    "import os\n",
    "os.chdir(\"../\")\n",
    "os.getcwd()"
   ]
  },
  {
   "cell_type": "code",
   "execution_count": null,
   "metadata": {
    "id": "idQmKzBgZqug"
   },
   "outputs": [],
   "source": [
    "from attacker.query import *\n",
    "from attacker.utils import *\n",
    "from victim import *\n",
    "from victim.interface import  fetch_victim_model\n",
    "\n",
    "set_seed(42)"
   ]
  },
  {
   "cell_type": "markdown",
   "metadata": {
    "id": "n9SehmoStA7J"
   },
   "source": [
    "# Query victim model & Train attacker model"
   ]
  },
  {
   "cell_type": "code",
   "execution_count": null,
   "metadata": {
    "id": "lMNfr2wZwGMF",
    "scrolled": false
   },
   "outputs": [],
   "source": [
    "# logits\n",
    "k = 3\n",
    "\n",
    "# get dataset in dataloader\n",
    "trainloader, testloader, outputs = get_dataloader(config[\"victim\"][\"data\"])\n",
    "\n",
    "# query & save test data with labels\n",
    "querytestloader = query_victim(config[\"victim\"], outputs, testloader, len(testloader.dataset), train=False)\n",
    "\n",
    "# sample train data on querytype.size\n",
    "sampledtrainloader = query_type(config[\"victim\"], outputs, trainloader, config[\"query_size\"],\n",
    "                                f'queried/query_traindata_{config[\"victim\"][\"data\"]}_{config[\"victim\"][\"model_name\"]}_k{k}',\n",
    "                                config[\"query_type\"])\n",
    "\n",
    "# fetch victim\n",
    "victim_model = fetch_victim_model(args=config[\"victim\"])\n",
    "\n",
    "# initialize attacker model\n",
    "attacker = get_model(config[\"attacker\"], outputs)\n",
    "\n",
    "# train attacker model\n",
    "attacker_result = attacker_training_w_logits(victim_model, attacker, sampledtrainloader, querytestloader, k)\n",
    "\n",
    "# save & visualize model inference\n",
    "title = f'Trial-A_{config[\"attacker\"]}_{config[\"victim\"][\"model_name\"]}_{config[\"victim\"][\"data\"]}{config[\"query_type\"]}_{config[\"query_size\"]}'\n",
    "percent = save_visualize(attacker, attacker_result,title )\n",
    "results_dict={\"Victim\":config[\"victim\"][\"model_name\"],\n",
    "                \"Dataset\":config[\"victim\"][\"data\"],\n",
    "                \"QueryType\": config[\"query_type\"],\n",
    "                \"QuerySize\": config[\"query_size\"],\n",
    "                \"Queried Output\": k ,\n",
    "                \"Attacker\": config[\"attacker\"],\n",
    "                \"Train Loss\": percent[0],\n",
    "                \"Train Accuracy\": percent[1],\n",
    "                \"Test Loss\": percent[2],\n",
    "                \"Test Accuracy\": percent[3]}\n",
    "print(results_dict)"
   ]
  },
  {
   "cell_type": "markdown",
   "metadata": {},
   "source": [
    "# Parameters"
   ]
  },
  {
   "cell_type": "raw",
   "metadata": {},
   "source": [
    "Case 3 : K-Logits vs Labels\n",
    "    Dataset - Cifar10\n",
    "    klogits - 3, 10\n",
    "    QueryType - coreset\n",
    "    Query Size - 10k, 30k, 50k\n",
    "    Attacker - Resnet34\n",
    "    Victim - Resnet50"
   ]
  },
  {
   "cell_type": "code",
   "execution_count": null,
   "metadata": {},
   "outputs": [],
   "source": [
    "parameters = {\n",
    "        \"query_size\": [20000],\n",
    "        \"query_type\": ['coreset'],\n",
    "        \"victim\":[{ \"data\": CIFAR_10, \"model_name\": RESNET50}],\n",
    "        \"attacker\":[RESNET34],\n",
    "        \"k-logits\": [3, 10]\n",
    "}"
   ]
  },
  {
   "cell_type": "markdown",
   "metadata": {},
   "source": [
    "# Special Investigations"
   ]
  },
  {
   "cell_type": "markdown",
   "metadata": {},
   "source": [
    "K-Logits"
   ]
  },
  {
   "cell_type": "code",
   "execution_count": null,
   "metadata": {
    "scrolled": false
   },
   "outputs": [],
   "source": [
    "print(f'config={config}\\n\\nparameters={parameters}\\n')\n",
    "Results = []\n",
    "# Iterate through Victim Model & Dataset\n",
    "for victim in parameters[\"victim\"]:\n",
    "    print('---------------------------------------------------------------------------')\n",
    "    # get dataset in dataloader\n",
    "    trainloader, testloader, outputs = get_dataloader(victim[\"data\"])\n",
    "\n",
    "    # query test data\n",
    "    querytestloader = query_victim(victim, outputs, testloader, len(testloader.dataset), train=False)\n",
    "\n",
    "    # Iterate through Attacker Model\n",
    "    for attacker_type in parameters[\"attacker\"]:\n",
    "        # Iterate Through Query Type\n",
    "        for querytype in parameters[\"query_type\"]:\n",
    "            # Iterate Through Query Size\n",
    "            for size in parameters[\"query_size\"]:\n",
    "                # Iterate Through Logits size\n",
    "                for k in parameters[\"k-logits\"]:\n",
    "                    print('-----------------------------------------------------------------------------')\n",
    "                    print(f'-----------------------Dataset: {victim[\"data\"]}----------------------------')\n",
    "                    print(f'--------Victim: {victim[\"model_name\"]} Attacker: {attacker_type}------------')\n",
    "                    print(f'---------------Query Type: {querytype} Query Size: {size}-------------------')\n",
    "\n",
    "                    # sample train data on querytype.size\n",
    "                    sampledtrainloader = query_type(victim, outputs, trainloader, size,\n",
    "                                    f'queried/query_traindata_{victim[\"data\"]}_{victim[\"model_name\"]}_k{k}', querytype)\n",
    "\n",
    "                    # fetch victim\n",
    "                    victim_model = fetch_victim_model(args=victim)\n",
    "\n",
    "                    # initialize attacker model\n",
    "                    attacker = get_model(attacker_type, outputs)\n",
    "\n",
    "                    # train attacker model\n",
    "                    attacker_result = attacker_training_w_logits(victim_model, attacker, sampledtrainloader, querytestloader, k)\n",
    "\n",
    "                    # save & visualize model inference\n",
    "                    title = f'A_{attacker_type}_{victim[\"model_name\"]}_{victim[\"data\"]}_{querytype}_{size}'\n",
    "                    percent = save_visualize(attacker, attacker_result,title )\n",
    "                    results_dict={\"Victim\":victim[\"model_name\"],\n",
    "                                    \"Dataset\":victim[\"data\"],\n",
    "                                    \"QueryType\": querytype,\n",
    "                                    \"QuerySize\": size,\n",
    "                                    \"Queried Output\": k,\n",
    "                                    \"Attacker\": attacker_type,\n",
    "                                    \"Train Loss\": percent[0],\n",
    "                                    \"Train Accuracy\": percent[1],\n",
    "                                    \"Test Loss\": percent[2],\n",
    "                                    \"Test Accuracy\": percent[3]}\n",
    "\n",
    "                    print(results_dict)\n",
    "                    Results.append(results_dict)\n",
    "                    print('-----------------------------------------------------------------------------')"
   ]
  },
  {
   "cell_type": "code",
   "execution_count": null,
   "metadata": {
    "scrolled": false
   },
   "outputs": [],
   "source": [
    "Results"
   ]
  },
  {
   "cell_type": "code",
   "execution_count": null,
   "metadata": {},
   "outputs": [],
   "source": []
  }
 ],
 "metadata": {
  "accelerator": "GPU",
  "colab": {
   "collapsed_sections": [],
   "name": "DL_Project",
   "provenance": []
  },
  "kernelspec": {
   "display_name": "Python [conda env:root] *",
   "language": "python",
   "name": "conda-root-py"
  },
  "language_info": {
   "codemirror_mode": {
    "name": "ipython",
    "version": 3
   },
   "file_extension": ".py",
   "mimetype": "text/x-python",
   "name": "python",
   "nbconvert_exporter": "python",
   "pygments_lexer": "ipython3",
   "version": "3.7.12"
  }
 },
 "nbformat": 4,
 "nbformat_minor": 1
}
