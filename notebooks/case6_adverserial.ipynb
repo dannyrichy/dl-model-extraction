{
 "cells": [
  {
   "cell_type": "code",
   "execution_count": 1,
   "metadata": {},
   "outputs": [
    {
     "data": {
      "text/plain": [
       "'/home/Aishu/dl-model-extraction'"
      ]
     },
     "execution_count": 1,
     "metadata": {},
     "output_type": "execute_result"
    }
   ],
   "source": [
    "import os\n",
    "os.chdir(\"../\")\n",
    "os.getcwd()"
   ]
  },
  {
   "cell_type": "code",
   "execution_count": 2,
   "metadata": {},
   "outputs": [],
   "source": [
    "from adverserial_transfer.adverserial import *"
   ]
  },
  {
   "cell_type": "markdown",
   "metadata": {},
   "source": [
    "# Parameters"
   ]
  },
  {
   "cell_type": "markdown",
   "metadata": {},
   "source": [
    "## Case - 6"
   ]
  },
  {
   "cell_type": "raw",
   "metadata": {},
   "source": [
    "Case 6 : Adversarial Transfers\n",
    "    Dataset - Cifar10\n",
    "    klogits - None\n",
    "    QueryType - coreset\n",
    "    Query Size - 20k\n",
    "    Attacker - Resnet34\n",
    "    Victim - Resnet50"
   ]
  },
  {
   "cell_type": "code",
   "execution_count": 3,
   "metadata": {},
   "outputs": [],
   "source": [
    "case4_adverserial = {\n",
    "        \"query_size\": [20000],\n",
    "        \"query_type\": ['coreset'],\n",
    "        \"victim\":[{ \"data\": CIFAR_10, \"model_name\": RESNET50}],\n",
    "        \"attacker\":[RESNET34],\n",
    "        \"k_logits\": [None]\n",
    "}"
   ]
  },
  {
   "cell_type": "markdown",
   "metadata": {},
   "source": [
    "# Investigations"
   ]
  },
  {
   "cell_type": "markdown",
   "metadata": {},
   "source": [
    "## case - 6"
   ]
  },
  {
   "cell_type": "code",
   "execution_count": 4,
   "metadata": {},
   "outputs": [
    {
     "name": "stdout",
     "output_type": "stream",
     "text": [
      "-----------------------------------------------------------------------------\n",
      "\tDataset: cifar_10\n",
      "\tVictim: resnet50\tAttacker: resnet34\n",
      "\tQuery Type: coreset\tQuery Size: 20000\tLogits: None\n",
      "-----------------------------------------------------------------------------\n",
      "Files already downloaded and verified\n",
      "Files already downloaded and verified\n"
     ]
    },
    {
     "name": "stderr",
     "output_type": "stream",
     "text": [
      "100%|█████████████████████████████████████| 10000/10000 [14:24<00:00, 11.57it/s]"
     ]
    },
    {
     "name": "stdout",
     "output_type": "stream",
     "text": [
      "total images: 10000\n",
      "images correctly classified by attacker: 8043\n",
      "images adverserial for attacker: 4796\n",
      "images also adverserial for victim: 399\n",
      "images with same adverserial label: 237\n"
     ]
    },
    {
     "name": "stderr",
     "output_type": "stream",
     "text": [
      "\n"
     ]
    }
   ],
   "source": [
    "adversery_generalised, results = adverserial_experiment(case4_adverserial, epsilon=0.01, seed=42)"
   ]
  },
  {
   "cell_type": "code",
   "execution_count": 5,
   "metadata": {},
   "outputs": [
    {
     "name": "stdout",
     "output_type": "stream",
     "text": [
      "-----------------------------------------------------------------------------\n",
      "\tDataset: cifar_10\n",
      "\tVictim: resnet50\tAttacker: resnet34\n",
      "\tQuery Type: coreset\tQuery Size: 20000\tLogits: None\n",
      "-----------------------------------------------------------------------------\n",
      "Files already downloaded and verified\n",
      "Files already downloaded and verified\n"
     ]
    },
    {
     "name": "stderr",
     "output_type": "stream",
     "text": [
      "100%|█████████████████████████████████████| 10000/10000 [14:18<00:00, 11.64it/s]\n"
     ]
    },
    {
     "name": "stdout",
     "output_type": "stream",
     "text": [
      "total images: 10000\n",
      "images correctly classified by attacker: 8043\n",
      "images adverserial for attacker: 7381\n",
      "images also adverserial for victim: 3988\n",
      "images with same adverserial label: 2120\n",
      "-----------------------------------------------------------------------------\n",
      "\tDataset: cifar_10\n",
      "\tVictim: resnet50\tAttacker: resnet34\n",
      "\tQuery Type: coreset\tQuery Size: 20000\tLogits: None\n",
      "-----------------------------------------------------------------------------\n",
      "Files already downloaded and verified\n",
      "Files already downloaded and verified\n"
     ]
    },
    {
     "name": "stderr",
     "output_type": "stream",
     "text": [
      "100%|█████████████████████████████████████| 10000/10000 [14:17<00:00, 11.66it/s]"
     ]
    },
    {
     "name": "stdout",
     "output_type": "stream",
     "text": [
      "total images: 10000\n",
      "images correctly classified by attacker: 8043\n",
      "images adverserial for attacker: 7424\n",
      "images also adverserial for victim: 6258\n",
      "images with same adverserial label: 2709\n"
     ]
    },
    {
     "name": "stderr",
     "output_type": "stream",
     "text": [
      "\n"
     ]
    }
   ],
   "source": [
    "for epsilon in [0.05, 0.1]:\n",
    "    adversery_generalised, results = adverserial_experiment(case4_adverserial, epsilon=epsilon, seed=42)"
   ]
  },
  {
   "cell_type": "code",
   "execution_count": null,
   "metadata": {},
   "outputs": [],
   "source": []
  }
 ],
 "metadata": {
  "accelerator": "GPU",
  "colab": {
   "collapsed_sections": [],
   "name": "DL_Project",
   "provenance": []
  },
  "kernelspec": {
   "display_name": "Python [conda env:root] *",
   "language": "python",
   "name": "conda-root-py"
  },
  "language_info": {
   "codemirror_mode": {
    "name": "ipython",
    "version": 3
   },
   "file_extension": ".py",
   "mimetype": "text/x-python",
   "name": "python",
   "nbconvert_exporter": "python",
   "pygments_lexer": "ipython3",
   "version": "3.7.12"
  }
 },
 "nbformat": 4,
 "nbformat_minor": 1
}
