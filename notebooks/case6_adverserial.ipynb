{
 "cells": [
  {
   "cell_type": "code",
   "execution_count": 1,
   "metadata": {},
   "outputs": [
    {
     "data": {
      "text/plain": [
       "'/home/Aishu/dl-model-extraction'"
      ]
     },
     "execution_count": 1,
     "metadata": {},
     "output_type": "execute_result"
    }
   ],
   "source": [
    "import os\n",
    "os.chdir(\"../\")\n",
    "os.getcwd()"
   ]
  },
  {
   "cell_type": "code",
   "execution_count": 2,
   "metadata": {},
   "outputs": [],
   "source": [
    "from adverserial_transfer.adverserial import *"
   ]
  },
  {
   "cell_type": "markdown",
   "metadata": {},
   "source": [
    "# Parameters"
   ]
  },
  {
   "cell_type": "markdown",
   "metadata": {},
   "source": [
    "## Case - 6"
   ]
  },
  {
   "cell_type": "raw",
   "metadata": {},
   "source": [
    "Case 6 : Adversarial Transfers\n",
    "    Dataset - Cifar10\n",
    "    klogits - None\n",
    "    QueryType - coreset\n",
    "    Query Size - 20k\n",
    "    Attacker - Resnet34\n",
    "    Victim - Resnet50"
   ]
  },
  {
   "cell_type": "code",
   "execution_count": 3,
   "metadata": {},
   "outputs": [],
   "source": [
    "case4_adverserial = {\n",
    "        \"query_size\": [20000],\n",
    "        \"query_type\": ['coreset'],\n",
    "        \"victim\":[{ \"data\": CIFAR_10, \"model_name\": RESNET50}],\n",
    "        \"attacker\":[RESNET34],\n",
    "        \"k_logits\": [None]\n",
    "}"
   ]
  },
  {
   "cell_type": "markdown",
   "metadata": {},
   "source": [
    "# Investigations"
   ]
  },
  {
   "cell_type": "markdown",
   "metadata": {},
   "source": [
    "## case - 6"
   ]
  },
  {
   "cell_type": "code",
   "execution_count": 4,
   "metadata": {},
   "outputs": [
    {
     "name": "stdout",
     "output_type": "stream",
     "text": [
      "Files already downloaded and verified\n",
      "Files already downloaded and verified\n"
     ]
    },
    {
     "name": "stderr",
     "output_type": "stream",
     "text": [
      "100%|█████████████████████████████████████| 10000/10000 [29:10<00:00,  5.71it/s]"
     ]
    },
    {
     "name": "stdout",
     "output_type": "stream",
     "text": [
      "total images: 10000\n",
      "images correctly classified by attacker: 2828\n",
      "images adverserial for attacker: 1982\n",
      "images also adverserial for victim: 1067\n",
      "images with same adverserial label: 122\n"
     ]
    },
    {
     "name": "stderr",
     "output_type": "stream",
     "text": [
      "\n"
     ]
    },
    {
     "data": {
      "text/plain": [
       "[37,\n",
       " 161,\n",
       " 191,\n",
       " 301,\n",
       " 510,\n",
       " 561,\n",
       " 638,\n",
       " 661,\n",
       " 847,\n",
       " 867,\n",
       " 943,\n",
       " 1117,\n",
       " 1137,\n",
       " 1185,\n",
       " 1398,\n",
       " 1441,\n",
       " 1484,\n",
       " 1556,\n",
       " 1718,\n",
       " 1738,\n",
       " 1855,\n",
       " 2001,\n",
       " 2128,\n",
       " 2195,\n",
       " 2213,\n",
       " 2228,\n",
       " 2375,\n",
       " 2409,\n",
       " 2460,\n",
       " 2570,\n",
       " 2608,\n",
       " 3029,\n",
       " 3118,\n",
       " 3156,\n",
       " 3165,\n",
       " 3268,\n",
       " 3298,\n",
       " 3419,\n",
       " 3511,\n",
       " 3539,\n",
       " 3645,\n",
       " 3718,\n",
       " 3734,\n",
       " 3740,\n",
       " 3778,\n",
       " 4062,\n",
       " 4313,\n",
       " 4330,\n",
       " 4431,\n",
       " 4546,\n",
       " 4551,\n",
       " 4562,\n",
       " 4571,\n",
       " 4752,\n",
       " 4792,\n",
       " 5065,\n",
       " 5093,\n",
       " 5181,\n",
       " 5220,\n",
       " 5374,\n",
       " 5524,\n",
       " 5932,\n",
       " 6394,\n",
       " 6436,\n",
       " 6615,\n",
       " 6618,\n",
       " 6633,\n",
       " 6750,\n",
       " 6752,\n",
       " 6803,\n",
       " 6962,\n",
       " 6982,\n",
       " 6987,\n",
       " 7123,\n",
       " 7143,\n",
       " 7146,\n",
       " 7172,\n",
       " 7175,\n",
       " 7274,\n",
       " 7280,\n",
       " 7282,\n",
       " 7298,\n",
       " 7394,\n",
       " 7460,\n",
       " 7607,\n",
       " 7658,\n",
       " 7754,\n",
       " 7900,\n",
       " 8080,\n",
       " 8084,\n",
       " 8096,\n",
       " 8105,\n",
       " 8288,\n",
       " 8452,\n",
       " 8474,\n",
       " 8478,\n",
       " 8496,\n",
       " 8547,\n",
       " 8558,\n",
       " 8565,\n",
       " 8694,\n",
       " 8731,\n",
       " 8761,\n",
       " 8764,\n",
       " 8779,\n",
       " 8914,\n",
       " 9122,\n",
       " 9144,\n",
       " 9252,\n",
       " 9254,\n",
       " 9336,\n",
       " 9351,\n",
       " 9410,\n",
       " 9634,\n",
       " 9794,\n",
       " 9799,\n",
       " 9818,\n",
       " 9841,\n",
       " 9855,\n",
       " 9895,\n",
       " 9953,\n",
       " 9974]"
      ]
     },
     "execution_count": 4,
     "metadata": {},
     "output_type": "execute_result"
    }
   ],
   "source": [
    "adverserial_experiment(case4_adverserial, epsilon=0.01, seed=42)"
   ]
  },
  {
   "cell_type": "code",
   "execution_count": null,
   "metadata": {},
   "outputs": [],
   "source": []
  }
 ],
 "metadata": {
  "accelerator": "GPU",
  "colab": {
   "collapsed_sections": [],
   "name": "DL_Project",
   "provenance": []
  },
  "kernelspec": {
   "display_name": "Python [conda env:root] *",
   "language": "python",
   "name": "conda-root-py"
  },
  "language_info": {
   "codemirror_mode": {
    "name": "ipython",
    "version": 3
   },
   "file_extension": ".py",
   "mimetype": "text/x-python",
   "name": "python",
   "nbconvert_exporter": "python",
   "pygments_lexer": "ipython3",
   "version": "3.7.12"
  }
 },
 "nbformat": 4,
 "nbformat_minor": 1
}
