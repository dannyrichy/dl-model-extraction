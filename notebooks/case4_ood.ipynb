{
 "cells": [
  {
   "cell_type": "code",
   "execution_count": 1,
   "metadata": {},
   "outputs": [
    {
     "data": {
      "text/plain": [
       "'/home/Aishu/dl-model-extraction'"
      ]
     },
     "execution_count": 1,
     "metadata": {},
     "output_type": "execute_result"
    }
   ],
   "source": [
    "import os\n",
    "os.chdir(\"../\")\n",
    "os.getcwd()"
   ]
  },
  {
   "cell_type": "code",
   "execution_count": 2,
   "metadata": {
    "id": "idQmKzBgZqug"
   },
   "outputs": [],
   "source": [
    "from attacker.training import *"
   ]
  },
  {
   "cell_type": "markdown",
   "metadata": {},
   "source": [
    "# Parameters"
   ]
  },
  {
   "cell_type": "markdown",
   "metadata": {},
   "source": [
    "## Case - 4"
   ]
  },
  {
   "cell_type": "raw",
   "metadata": {},
   "source": [
    "Case 4 : Out of distribution Dataset\n",
    "    Dataset - ood\n",
    "    klogits - 0\n",
    "    QueryType - random\n",
    "    Query Size - 10k, 15k\n",
    "    Attacker - Resnet34\n",
    "    Victim - Resnet50"
   ]
  },
  {
   "cell_type": "code",
   "execution_count": 3,
   "metadata": {},
   "outputs": [],
   "source": [
    "case4_ood = {\n",
    "        \"query_size\": [10000, 20000],\n",
    "        \"query_type\": ['random'],\n",
    "        \"victim\":[{ \"data\": OOD, \"model_name\": RESNET50}],\n",
    "        \"attacker\":[RESNET34],\n",
    "        \"k_logits\": [None]\n",
    "}"
   ]
  },
  {
   "cell_type": "markdown",
   "metadata": {},
   "source": [
    "# Investigations"
   ]
  },
  {
   "cell_type": "markdown",
   "metadata": {},
   "source": [
    "## case -  4 - Part 1"
   ]
  },
  {
   "cell_type": "code",
   "execution_count": 4,
   "metadata": {
    "scrolled": false
   },
   "outputs": [
    {
     "name": "stdout",
     "output_type": "stream",
     "text": [
      "PARAMETERS for investigation:\n",
      "{'attacker': ['resnet34'],\n",
      " 'k_logits': [None],\n",
      " 'query_size': [10000, 20000],\n",
      " 'query_type': ['random'],\n",
      " 'victim': [{'data': 'ood', 'model_name': 'resnet50'}]}\n",
      "---------------------------------------------------------------------------\n",
      "Querying resnet50 victim on ood dataset\n"
     ]
    },
    {
     "name": "stderr",
     "output_type": "stream",
     "text": [
      "libpng warning: iCCP: known incorrect sRGB profile\n"
     ]
    },
    {
     "name": "stdout",
     "output_type": "stream",
     "text": [
      "\t\t 2000 ..."
     ]
    },
    {
     "name": "stderr",
     "output_type": "stream",
     "text": [
      "libpng warning: iCCP: known incorrect sRGB profile\n"
     ]
    },
    {
     "name": "stdout",
     "output_type": "stream",
     "text": [
      "\t\t 3500 ..."
     ]
    },
    {
     "name": "stderr",
     "output_type": "stream",
     "text": [
      "libpng warning: iCCP: known incorrect sRGB profile\n"
     ]
    },
    {
     "name": "stdout",
     "output_type": "stream",
     "text": [
      "\t- input:5997 queried:5997 -victim acc: 0.240120068192482\n",
      "Sampling using None with query size 5997\n",
      "\t- input:5997 sampled:5997\n",
      "Querying resnet50 victim on ood dataset\n"
     ]
    },
    {
     "name": "stderr",
     "output_type": "stream",
     "text": [
      "libpng warning: iCCP: known incorrect sRGB profile\n"
     ]
    },
    {
     "name": "stdout",
     "output_type": "stream",
     "text": [
      "\t\t 5000 ..."
     ]
    },
    {
     "name": "stderr",
     "output_type": "stream",
     "text": [
      "libpng warning: iCCP: known incorrect sRGB profile\n",
      "libpng warning: iCCP: known incorrect sRGB profile\n",
      "libpng warning: iCCP: known incorrect sRGB profile\n"
     ]
    },
    {
     "name": "stdout",
     "output_type": "stream",
     "text": [
      "\r",
      "\t\t 5500 ..."
     ]
    },
    {
     "name": "stderr",
     "output_type": "stream",
     "text": [
      "libpng warning: cHRM: inconsistent chromaticities\n"
     ]
    },
    {
     "name": "stdout",
     "output_type": "stream",
     "text": [
      "\r",
      "\t\t 6000 ..."
     ]
    },
    {
     "name": "stderr",
     "output_type": "stream",
     "text": [
      "libpng warning: iCCP: known incorrect sRGB profile\n",
      "libpng warning: iCCP: known incorrect sRGB profile\n"
     ]
    },
    {
     "name": "stdout",
     "output_type": "stream",
     "text": [
      "\t\t 10000 ..."
     ]
    },
    {
     "name": "stderr",
     "output_type": "stream",
     "text": [
      "libpng warning: iCCP: known incorrect sRGB profile\n"
     ]
    },
    {
     "name": "stdout",
     "output_type": "stream",
     "text": [
      "\t\t 11000 ..."
     ]
    },
    {
     "name": "stderr",
     "output_type": "stream",
     "text": [
      "libpng warning: iCCP: known incorrect sRGB profile\n"
     ]
    },
    {
     "name": "stdout",
     "output_type": "stream",
     "text": [
      "\r",
      "\t\t 11500 ..."
     ]
    },
    {
     "name": "stderr",
     "output_type": "stream",
     "text": [
      "libpng warning: iCCP: known incorrect sRGB profile\n"
     ]
    },
    {
     "name": "stdout",
     "output_type": "stream",
     "text": [
      "\r",
      "\t\t 12000 ..."
     ]
    },
    {
     "name": "stderr",
     "output_type": "stream",
     "text": [
      "libpng warning: iCCP: known incorrect sRGB profile\n"
     ]
    },
    {
     "name": "stdout",
     "output_type": "stream",
     "text": [
      "\t\t 13000 ..."
     ]
    },
    {
     "name": "stderr",
     "output_type": "stream",
     "text": [
      "libpng warning: iCCP: known incorrect sRGB profile\n"
     ]
    },
    {
     "name": "stdout",
     "output_type": "stream",
     "text": [
      "\r",
      "\t\t 13500 ..."
     ]
    },
    {
     "name": "stderr",
     "output_type": "stream",
     "text": [
      "libpng warning: iCCP: known incorrect sRGB profile\n"
     ]
    },
    {
     "name": "stdout",
     "output_type": "stream",
     "text": [
      "\t\t 14500 ..."
     ]
    },
    {
     "name": "stderr",
     "output_type": "stream",
     "text": [
      "libpng warning: iCCP: known incorrect sRGB profile\n"
     ]
    },
    {
     "name": "stdout",
     "output_type": "stream",
     "text": [
      "\t\t 16000 ..."
     ]
    },
    {
     "name": "stderr",
     "output_type": "stream",
     "text": [
      "libpng warning: iCCP: known incorrect sRGB profile\n"
     ]
    },
    {
     "name": "stdout",
     "output_type": "stream",
     "text": [
      "\t- input:17990 queried:17990 -victim acc: 0.24219009280204773\n",
      "Sampling using random with query size 10000\n",
      "\t- input:17990 sampled:10000\n",
      "\n",
      "-----------------------------------------------------------------------------\n",
      "\tDataset: ood\n",
      "\tVictim: resnet50\tAttacker: resnet34\n",
      "\tQuery Type: random\tQuery Size: 10000\tLogits: None\n",
      "-----------------------------------------------------------------------------\n",
      "Total epochs to run: 200\n",
      "\tepoch 1\n",
      "\t- train_acc 0.23270 train_loss 1.95188\n",
      "\t- test_acc  0.05469 test_loss  2.52987\n",
      "\tepoch 2\n",
      "\t- train_acc 0.32060 train_loss 1.87478\n",
      "\t- test_acc  0.17776 test_loss  13.29476\n",
      "\tepoch 3\n",
      "\t- train_acc 0.33760 train_loss 1.79369\n",
      "\t- test_acc  0.24396 test_loss  9.71224\n",
      "\tepoch 4\n",
      "\t- train_acc 0.34750 train_loss 1.86946\n",
      "\t- test_acc  0.31632 test_loss  5.22458\n",
      "\tepoch 5\n",
      "\t- train_acc 0.33420 train_loss 1.87866\n",
      "\t- test_acc  0.14124 test_loss  250.96283\n",
      "\tepoch 6\n",
      "\t- train_acc 0.31620 train_loss 2.01824\n",
      "\t- test_acc  0.14307 test_loss  868.01794\n",
      "\tepoch 7\n",
      "\t- train_acc 0.31150 train_loss 1.84176\n",
      "\t- test_acc  0.19176 test_loss  2.31273\n",
      "\tepoch 8\n",
      "\t- train_acc 0.33210 train_loss 1.80460\n",
      "\t- test_acc  0.26680 test_loss  2.65115\n",
      "\tepoch 9\n",
      "\t- train_acc 0.33420 train_loss 1.93364\n",
      "\t- test_acc  0.25796 test_loss  114.64603\n",
      "\tepoch 10\n",
      "\t- train_acc 0.31570 train_loss 1.82144\n",
      "\t- test_acc  0.19126 test_loss  30.55443\n",
      "\tepoch 11\n",
      "\t- train_acc 0.32990 train_loss 2.04832\n",
      "\t- test_acc  0.17259 test_loss  4.48453\n",
      "\tepoch 12\n",
      "\t- train_acc 0.34480 train_loss 1.76508\n",
      "\t- test_acc  0.33367 test_loss  2.40565\n",
      "\tepoch 13\n",
      "\t- train_acc 0.38830 train_loss 1.71138\n",
      "\t- test_acc  0.34917 test_loss  1.84558\n",
      "\tepoch 14\n",
      "\t- train_acc 0.38680 train_loss 1.68100\n",
      "\t- test_acc  0.36068 test_loss  1.83020\n",
      "\tepoch 15\n",
      "\t- train_acc 0.39990 train_loss 1.67249\n",
      "\t- test_acc  0.36318 test_loss  1.88040\n",
      "\tepoch 16\n",
      "\t- train_acc 0.41130 train_loss 1.60922\n",
      "\t- test_acc  0.38236 test_loss  1.69963\n",
      "\tepoch 17\n",
      "\t- train_acc 0.41900 train_loss 1.59906\n",
      "\t- test_acc  0.42171 test_loss  1.70365\n",
      "\tepoch 18\n",
      "\t- train_acc 0.43350 train_loss 1.62067\n",
      "\t- test_acc  0.41321 test_loss  1.55455\n",
      "\tepoch 19\n",
      "\t- train_acc 0.42940 train_loss 1.62534\n",
      "\t- test_acc  0.38369 test_loss  1.73247\n",
      "\tepoch 20\n",
      "\t- train_acc 0.44450 train_loss 1.57726\n",
      "\t- test_acc  0.39520 test_loss  1.73914\n",
      "\tepoch 21\n",
      "\t- train_acc 0.45070 train_loss 1.57604\n",
      "\t- test_acc  0.43622 test_loss  1.69010\n",
      "\tepoch 22\n",
      "\t- train_acc 0.44970 train_loss 1.57045\n",
      "\t- test_acc  0.41471 test_loss  1.76663\n",
      "\tepoch 23\n",
      "\t- train_acc 0.46670 train_loss 1.49992\n",
      "\t- test_acc  0.38219 test_loss  1.77679\n",
      "\tepoch 24\n",
      "\t- train_acc 0.47530 train_loss 1.43077\n",
      "\t- test_acc  0.42038 test_loss  1.67353\n",
      "\tepoch 25\n",
      "\t- train_acc 0.46700 train_loss 1.45820\n",
      "\t- test_acc  0.44739 test_loss  1.64821\n",
      "\tepoch 26\n",
      "\t- train_acc 0.47900 train_loss 1.45821\n",
      "\t- test_acc  0.40454 test_loss  1.74671\n",
      "\tepoch 27\n",
      "\t- train_acc 0.48450 train_loss 1.48667\n",
      "\t- test_acc  0.43355 test_loss  1.71579\n",
      "\tepoch 28\n",
      "\t- train_acc 0.49850 train_loss 1.35326\n",
      "\t- test_acc  0.46607 test_loss  1.44590\n",
      "\tepoch 29\n",
      "\t- train_acc 0.48820 train_loss 1.45759\n",
      "\t- test_acc  0.43472 test_loss  1.72566\n",
      "\tepoch 30\n",
      "\t- train_acc 0.51120 train_loss 1.35075\n",
      "\t- test_acc  0.43689 test_loss  1.68474\n",
      "\tepoch 31\n",
      "\t- train_acc 0.51940 train_loss 1.42358\n",
      "\t- test_acc  0.43105 test_loss  1.62958\n",
      "\tepoch 32\n",
      "\t- train_acc 0.52070 train_loss 1.33077\n",
      "\t- test_acc  0.45356 test_loss  1.52266\n",
      "\tepoch 33\n",
      "\t- train_acc 0.52820 train_loss 1.32316\n",
      "\t- test_acc  0.46923 test_loss  1.51777\n",
      "\tepoch 34\n",
      "\t- train_acc 0.53040 train_loss 1.34390\n",
      "\t- test_acc  0.43205 test_loss  1.71466\n",
      "\tepoch 35\n",
      "\t- train_acc 0.53400 train_loss 1.34888\n",
      "\t- test_acc  0.44289 test_loss  1.83423\n",
      "\tepoch 36\n",
      "\t- train_acc 0.54390 train_loss 1.23970\n",
      "\t- test_acc  0.45056 test_loss  1.73013\n",
      "\tepoch 37\n",
      "\t- train_acc 0.53510 train_loss 1.31190\n",
      "\t- test_acc  0.46523 test_loss  1.57626\n",
      "\tepoch 38\n",
      "\t- train_acc 0.53910 train_loss 1.33921\n",
      "\t- test_acc  0.46657 test_loss  1.54257\n",
      "\tepoch 39\n",
      "\t- train_acc 0.55170 train_loss 1.25471\n",
      "\t- test_acc  0.43839 test_loss  1.80102\n",
      "\tepoch 40\n",
      "\t- train_acc 0.55870 train_loss 1.23221\n",
      "\t- test_acc  0.48241 test_loss  1.64691\n",
      "\tepoch 41\n",
      "\t- train_acc 0.56040 train_loss 1.37408\n",
      "\t- test_acc  0.47074 test_loss  1.57913\n",
      "\tepoch 42\n",
      "\t- train_acc 0.57490 train_loss 1.17750\n",
      "\t- test_acc  0.49208 test_loss  1.53522\n",
      "\tepoch 43\n",
      "\t- train_acc 0.56040 train_loss 1.35511\n",
      "\t- test_acc  0.45389 test_loss  1.64257\n",
      "\tepoch 44\n",
      "\t- train_acc 0.56280 train_loss 1.31479\n",
      "\t- test_acc  0.47190 test_loss  1.63833\n",
      "\tepoch 45\n",
      "\t- train_acc 0.56680 train_loss 1.18808\n",
      "\t- test_acc  0.46240 test_loss  1.64144\n",
      "\tepoch 46\n",
      "\t- train_acc 0.58490 train_loss 1.21630\n",
      "\t- test_acc  0.49208 test_loss  1.62756\n",
      "\tepoch 47\n",
      "\t- train_acc 0.58790 train_loss 1.06884\n",
      "\t- test_acc  0.52860 test_loss  1.45875\n",
      "\tepoch 48\n",
      "\t- train_acc 0.58850 train_loss 1.11088\n",
      "\t- test_acc  0.43372 test_loss  1.87116\n",
      "\tepoch 49\n",
      "\t- train_acc 0.59800 train_loss 1.16685\n",
      "\t- test_acc  0.50842 test_loss  1.48885\n",
      "\tepoch 50\n",
      "\t- train_acc 0.60170 train_loss 1.17194\n",
      "\t- test_acc  0.45089 test_loss  1.79706\n",
      "\tepoch 51\n",
      "\t- train_acc 0.59280 train_loss 1.09057\n",
      "\t- test_acc  0.49258 test_loss  1.51893\n",
      "\tepoch 52\n",
      "\t- train_acc 0.61940 train_loss 1.11456\n",
      "\t- test_acc  0.51326 test_loss  1.45325\n",
      "\tepoch 53\n",
      "\t- train_acc 0.61970 train_loss 1.05251\n",
      "\t- test_acc  0.52126 test_loss  1.41110\n",
      "\tepoch 54\n",
      "\t- train_acc 0.62930 train_loss 0.99333\n",
      "\t- test_acc  0.50292 test_loss  1.52517\n",
      "\tepoch 55\n",
      "\t- train_acc 0.63750 train_loss 1.06051\n",
      "\t- test_acc  0.48891 test_loss  1.49784\n",
      "\tepoch 56\n",
      "\t- train_acc 0.64290 train_loss 1.08969\n",
      "\t- test_acc  0.52376 test_loss  1.45259\n",
      "\tepoch 57\n",
      "\t- train_acc 0.64100 train_loss 1.09259\n",
      "\t- test_acc  0.49742 test_loss  1.71075\n",
      "\tepoch 58\n",
      "\t- train_acc 0.64810 train_loss 1.05551\n",
      "\t- test_acc  0.52526 test_loss  1.49855\n",
      "\tepoch 59\n",
      "\t- train_acc 0.67640 train_loss 0.99408\n",
      "\t- test_acc  0.52593 test_loss  1.57301\n",
      "\tepoch 60\n",
      "\t- train_acc 0.66800 train_loss 0.86032\n",
      "\t- test_acc  0.52259 test_loss  1.48150\n",
      "\tepoch 61\n",
      "\t- train_acc 0.68910 train_loss 0.97013\n",
      "\t- test_acc  0.52876 test_loss  1.46741\n",
      "\tepoch 62\n",
      "\t- train_acc 0.67570 train_loss 0.88926\n",
      "\t- test_acc  0.50975 test_loss  1.77899\n",
      "\tepoch 63\n",
      "\t- train_acc 0.69270 train_loss 0.80021\n",
      "\t- test_acc  0.52360 test_loss  1.64031\n",
      "\tepoch 64\n",
      "\t- train_acc 0.69310 train_loss 0.86231\n",
      "\t- test_acc  0.49858 test_loss  1.66340\n",
      "\tepoch 65\n",
      "\t- train_acc 0.71110 train_loss 0.89942\n",
      "\t- test_acc  0.50792 test_loss  1.58199\n",
      "\tepoch 66\n",
      "\t- train_acc 0.72450 train_loss 0.72085\n",
      "\t- test_acc  0.52726 test_loss  1.68821\n",
      "\tepoch 67\n",
      "\t- train_acc 0.71210 train_loss 0.85914\n",
      "\t- test_acc  0.52493 test_loss  1.64588\n",
      "\tepoch 68\n",
      "\t- train_acc 0.73100 train_loss 0.63682\n",
      "\t- test_acc  0.53660 test_loss  1.59382\n",
      "\tepoch 69\n",
      "\t- train_acc 0.73940 train_loss 0.93311\n",
      "\t- test_acc  0.51492 test_loss  1.65222\n",
      "\tepoch 70\n",
      "\t- train_acc 0.75230 train_loss 0.75215\n",
      "\t- test_acc  0.52376 test_loss  1.46398\n",
      "\tepoch 71\n",
      "\t- train_acc 0.74440 train_loss 0.63863\n",
      "\t- test_acc  0.52259 test_loss  1.63587\n",
      "\tepoch 72\n",
      "\t- train_acc 0.76650 train_loss 0.64158\n",
      "\t- test_acc  0.53794 test_loss  1.68420\n",
      "\tepoch 73\n",
      "\t- train_acc 0.75920 train_loss 0.63439\n",
      "\t- test_acc  0.52793 test_loss  1.64167\n",
      "\tepoch 74\n",
      "\t- train_acc 0.77480 train_loss 0.79574\n",
      "\t- test_acc  0.53660 test_loss  1.82440\n",
      "\tepoch 75\n",
      "\t- train_acc 0.78980 train_loss 0.59763\n",
      "\t- test_acc  0.54611 test_loss  1.74586\n",
      "\tepoch 76\n",
      "\t- train_acc 0.79110 train_loss 0.52114\n",
      "\t- test_acc  0.54627 test_loss  1.75040\n",
      "\tepoch 77\n",
      "\t- train_acc 0.81720 train_loss 0.59833\n",
      "\t- test_acc  0.52510 test_loss  1.74621\n",
      "\tepoch 78\n",
      "\t- train_acc 0.81330 train_loss 0.59084\n",
      "\t- test_acc  0.52426 test_loss  1.77017\n",
      "\tepoch 79\n",
      "\t- train_acc 0.80020 train_loss 0.57585\n",
      "\t- test_acc  0.54594 test_loss  1.70612\n",
      "\tepoch 80\n",
      "\t- train_acc 0.79820 train_loss 0.61368\n",
      "\t- test_acc  0.52360 test_loss  1.76927\n",
      "\tepoch 81\n",
      "\t- train_acc 0.83030 train_loss 0.47643\n",
      "\t- test_acc  0.53660 test_loss  2.02029\n",
      "\tepoch 82\n",
      "\t- train_acc 0.84760 train_loss 0.53738\n",
      "\t- test_acc  0.54561 test_loss  2.02250\n",
      "\tepoch 83\n",
      "\t- train_acc 0.83760 train_loss 0.51839\n",
      "\t- test_acc  0.53193 test_loss  1.98574\n",
      "\tepoch 84\n",
      "\t- train_acc 0.82130 train_loss 0.39188\n",
      "\t- test_acc  0.53077 test_loss  1.90605\n",
      "\tepoch 85\n",
      "\t- train_acc 0.84950 train_loss 0.62438\n",
      "\t- test_acc  0.55061 test_loss  1.96456\n",
      "\tepoch 86\n",
      "\t- train_acc 0.85660 train_loss 0.37636\n",
      "\t- test_acc  0.55211 test_loss  1.88231\n",
      "\tepoch 87\n",
      "\t- train_acc 0.86950 train_loss 0.40517\n"
     ]
    },
    {
     "name": "stdout",
     "output_type": "stream",
     "text": [
      "\t- test_acc  0.54561 test_loss  1.97352\n",
      "\tepoch 88\n",
      "\t- train_acc 0.87670 train_loss 0.37243\n",
      "\t- test_acc  0.54794 test_loss  1.96814\n",
      "\tepoch 89\n",
      "\t- train_acc 0.89170 train_loss 0.33051\n",
      "\t- test_acc  0.54827 test_loss  2.07168\n",
      "\tepoch 90\n",
      "\t- train_acc 0.89120 train_loss 0.22263\n",
      "\t- test_acc  0.56145 test_loss  2.05967\n",
      "\tepoch 91\n",
      "\t- train_acc 0.90770 train_loss 0.34827\n",
      "\t- test_acc  0.55528 test_loss  2.14536\n",
      "\tepoch 92\n",
      "\t- train_acc 0.92520 train_loss 0.26164\n",
      "\t- test_acc  0.55761 test_loss  1.94681\n",
      "\tepoch 93\n",
      "\t- train_acc 0.92580 train_loss 0.09860\n",
      "\t- test_acc  0.55978 test_loss  2.07643\n",
      "\tepoch 94\n",
      "\t- train_acc 0.92870 train_loss 0.43721\n",
      "\t- test_acc  0.55745 test_loss  2.43889\n",
      "\tepoch 95\n",
      "\t- train_acc 0.93590 train_loss 0.16929\n",
      "\t- test_acc  0.55978 test_loss  2.24442\n",
      "\tepoch 96\n",
      "\t- train_acc 0.93920 train_loss 0.18478\n",
      "\t- test_acc  0.55261 test_loss  2.45068\n",
      "\tepoch 97\n",
      "\t- train_acc 0.95280 train_loss 0.08521\n",
      "\t- test_acc  0.56128 test_loss  2.14586\n",
      "\tepoch 98\n",
      "\t- train_acc 0.96600 train_loss 0.04358\n",
      "\t- test_acc  0.56045 test_loss  2.50139\n",
      "\tepoch 99\n",
      "\t- train_acc 0.95580 train_loss 0.07359\n",
      "\t- test_acc  0.56095 test_loss  2.59461\n",
      "\tepoch 100\n",
      "\t- train_acc 0.95720 train_loss 0.06753\n",
      "\t- test_acc  0.55695 test_loss  2.41849\n",
      "\tepoch 101\n",
      "\t- train_acc 0.95960 train_loss 0.05036\n",
      "\t- test_acc  0.55778 test_loss  2.42677\n",
      "\tepoch 102\n",
      "\t- train_acc 0.95510 train_loss 0.03862\n",
      "\t- test_acc  0.55811 test_loss  2.62861\n",
      "\tepoch 103\n",
      "\t- train_acc 0.96540 train_loss 0.08135\n",
      "\t- test_acc  0.56295 test_loss  2.66798\n",
      "\tepoch 104\n",
      "\t- train_acc 0.96190 train_loss 0.04040\n",
      "\t- test_acc  0.56061 test_loss  2.50821\n",
      "\tepoch 105\n",
      "\t- train_acc 0.96120 train_loss 0.14903\n",
      "\t- test_acc  0.56345 test_loss  2.74854\n",
      "\tepoch 106\n",
      "\t- train_acc 0.96350 train_loss 0.06884\n",
      "\t- test_acc  0.56111 test_loss  2.50185\n",
      "\tepoch 107\n",
      "\t- train_acc 0.95660 train_loss 0.08728\n",
      "\t- test_acc  0.55778 test_loss  2.61894\n",
      "\tepoch 108\n",
      "\t- train_acc 0.95370 train_loss 0.09274\n",
      "\t- test_acc  0.55411 test_loss  2.52422\n",
      "\tepoch 109\n",
      "\t- train_acc 0.95630 train_loss 0.14771\n",
      "\t- test_acc  0.55328 test_loss  2.62198\n",
      "\tepoch 110\n",
      "\t- train_acc 0.95390 train_loss 0.33472\n",
      "\t- test_acc  0.56278 test_loss  2.50214\n",
      "\tepoch 111\n",
      "\t- train_acc 0.95240 train_loss 0.19312\n",
      "\t- test_acc  0.55294 test_loss  2.74775\n",
      "\tepoch 112\n",
      "\t- train_acc 0.94120 train_loss 0.12121\n",
      "\t- test_acc  0.54661 test_loss  2.74345\n",
      "\tepoch 113\n",
      "\t- train_acc 0.94760 train_loss 0.10986\n",
      "\t- test_acc  0.54411 test_loss  2.84230\n",
      "\tepoch 114\n",
      "\t- train_acc 0.94780 train_loss 0.13961\n",
      "\t- test_acc  0.55211 test_loss  2.73468\n",
      "\tepoch 115\n",
      "\t- train_acc 0.93840 train_loss 0.11933\n",
      "\t- test_acc  0.54060 test_loss  2.52139\n",
      "\tepoch 116\n",
      "\t- train_acc 0.94840 train_loss 0.09547\n",
      "\t- test_acc  0.55461 test_loss  3.01696\n",
      "\tepoch 117\n",
      "\t- train_acc 0.93510 train_loss 0.17397\n",
      "\t- test_acc  0.54811 test_loss  2.73953\n",
      "\tepoch 118\n",
      "\t- train_acc 0.93300 train_loss 0.53295\n",
      "\t- test_acc  0.54361 test_loss  2.72808\n",
      "\tepoch 119\n",
      "\t- train_acc 0.92790 train_loss 0.19038\n",
      "\t- test_acc  0.53127 test_loss  2.82679\n",
      "\tepoch 120\n",
      "\t- train_acc 0.92220 train_loss 0.23699\n",
      "\t- test_acc  0.54294 test_loss  2.47334\n",
      "\tepoch 121\n",
      "\t- train_acc 0.91920 train_loss 0.15421\n",
      "\t- test_acc  0.54561 test_loss  2.41895\n",
      "\tepoch 122\n",
      "\t- train_acc 0.91050 train_loss 0.35768\n",
      "\t- test_acc  0.54644 test_loss  2.29512\n",
      "\tepoch 123\n",
      "\t- train_acc 0.90710 train_loss 0.27798\n",
      "\t- test_acc  0.53810 test_loss  2.51975\n",
      "\tepoch 124\n",
      "\t- train_acc 0.88890 train_loss 0.41123\n",
      "\t- test_acc  0.55328 test_loss  2.21522\n",
      "\tepoch 125\n",
      "\t- train_acc 0.90380 train_loss 0.25963\n",
      "\t- test_acc  0.54611 test_loss  2.34676\n",
      "\tepoch 126\n",
      "\t- train_acc 0.90320 train_loss 0.31041\n",
      "\t- test_acc  0.54444 test_loss  2.36536\n",
      "\tepoch 127\n",
      "\t- train_acc 0.90900 train_loss 0.52277\n",
      "\t- test_acc  0.55128 test_loss  2.60358\n",
      "\tepoch 128\n",
      "\t- train_acc 0.90820 train_loss 0.25033\n",
      "\t- test_acc  0.54761 test_loss  2.56308\n",
      "\tepoch 129\n",
      "\t- train_acc 0.91330 train_loss 0.25460\n",
      "\t- test_acc  0.53310 test_loss  2.35935\n",
      "\tepoch 130\n",
      "\t- train_acc 0.88360 train_loss 0.36271\n",
      "\t- test_acc  0.52843 test_loss  2.46558\n",
      "\tepoch 131\n",
      "\t- train_acc 0.89080 train_loss 0.27700\n",
      "\t- test_acc  0.53827 test_loss  2.29832\n",
      "\tepoch 132\n",
      "\t- train_acc 0.89930 train_loss 0.27465\n",
      "\t- test_acc  0.53610 test_loss  1.94571\n",
      "\tepoch 133\n",
      "\t- train_acc 0.88350 train_loss 0.56833\n",
      "\t- test_acc  0.52059 test_loss  2.46680\n",
      "\tepoch 134\n",
      "\t- train_acc 0.87620 train_loss 0.45150\n",
      "\t- test_acc  0.54794 test_loss  2.15995\n",
      "\tepoch 135\n",
      "\t- train_acc 0.88570 train_loss 0.38437\n",
      "\t- test_acc  0.54794 test_loss  2.22129\n",
      "\tepoch 136\n",
      "\t- train_acc 0.87720 train_loss 0.35480\n",
      "\t- test_acc  0.53127 test_loss  2.43952\n",
      "\tepoch 137\n",
      "\t- train_acc 0.87660 train_loss 0.58853\n",
      "\t- test_acc  0.55144 test_loss  2.03744\n",
      "\tepoch 138\n",
      "\t- train_acc 0.85740 train_loss 0.38583\n",
      "\t- test_acc  0.53527 test_loss  2.08886\n",
      "\tepoch 139\n",
      "\t- train_acc 0.88750 train_loss 0.45827\n",
      "\t- test_acc  0.53110 test_loss  2.41512\n",
      "\tepoch 140\n",
      "\t- train_acc 0.87440 train_loss 0.39942\n",
      "\t- test_acc  0.52076 test_loss  2.06786\n",
      "\tepoch 141\n",
      "\t- train_acc 0.88190 train_loss 0.34125\n",
      "\t- test_acc  0.53543 test_loss  2.11595\n",
      "\tepoch 142\n",
      "\t- train_acc 0.87490 train_loss 0.42096\n",
      "\t- test_acc  0.52426 test_loss  2.26907\n",
      "\tepoch 143\n",
      "\t- train_acc 0.86640 train_loss 0.37696\n",
      "\t- test_acc  0.52743 test_loss  2.01000\n",
      "\tepoch 144\n",
      "\t- train_acc 0.86450 train_loss 0.30450\n",
      "\t- test_acc  0.50525 test_loss  2.20919\n",
      "\tepoch 145\n",
      "\t- train_acc 0.86490 train_loss 0.38131\n",
      "\t- test_acc  0.50659 test_loss  2.23158\n",
      "\tepoch 146\n",
      "\t- train_acc 0.86660 train_loss 0.49581\n",
      "\t- test_acc  0.52159 test_loss  1.98380\n",
      "\tepoch 147\n",
      "\t- train_acc 0.88010 train_loss 0.21685\n",
      "\t- test_acc  0.53043 test_loss  2.09825\n",
      "\tepoch 148\n",
      "\t- train_acc 0.88520 train_loss 0.45762\n",
      "\t- test_acc  0.53160 test_loss  2.21094\n",
      "\tepoch 149\n",
      "\t- train_acc 0.84760 train_loss 0.35563\n",
      "\t- test_acc  0.51309 test_loss  2.12571\n",
      "\tepoch 150\n",
      "\t- train_acc 0.87380 train_loss 0.23497\n",
      "\t- test_acc  0.51009 test_loss  2.07512\n",
      "\tepoch 151\n",
      "\t- train_acc 0.84270 train_loss 0.28589\n",
      "\t- test_acc  0.54361 test_loss  1.63212\n",
      "\tepoch 152\n",
      "\t- train_acc 0.88970 train_loss 0.35586\n",
      "\t- test_acc  0.53327 test_loss  2.30728\n",
      "\tepoch 153\n",
      "\t- train_acc 0.89880 train_loss 0.28275\n",
      "\t- test_acc  0.54210 test_loss  2.36958\n",
      "\tepoch 154\n",
      "\t- train_acc 0.87920 train_loss 0.40585\n",
      "\t- test_acc  0.53227 test_loss  2.08349\n",
      "\tepoch 155\n",
      "\t- train_acc 0.88000 train_loss 0.23583\n",
      "\t- test_acc  0.51326 test_loss  2.43078\n",
      "\tepoch 156\n",
      "\t- train_acc 0.88930 train_loss 0.27340\n",
      "\t- test_acc  0.52226 test_loss  2.26461\n",
      "\tepoch 157\n",
      "\t- train_acc 0.90230 train_loss 0.28090\n",
      "\t- test_acc  0.51176 test_loss  2.34044\n",
      "\tepoch 158\n",
      "\t- train_acc 0.91210 train_loss 0.29218\n",
      "\t- test_acc  0.53210 test_loss  2.38075\n",
      "\tepoch 159\n",
      "\t- train_acc 0.92030 train_loss 0.41238\n",
      "\t- test_acc  0.55478 test_loss  2.47941\n",
      "\tepoch 160\n",
      "\t- train_acc 0.91870 train_loss 0.32085\n",
      "\t- test_acc  0.53794 test_loss  2.41084\n",
      "\tepoch 161\n",
      "\t- train_acc 0.92500 train_loss 0.14219\n",
      "\t- test_acc  0.55494 test_loss  2.47120\n",
      "\tepoch 162\n",
      "\t- train_acc 0.92760 train_loss 0.15148\n",
      "\t- test_acc  0.55311 test_loss  2.48378\n",
      "\tepoch 163\n",
      "\t- train_acc 0.92730 train_loss 0.36208\n",
      "\t- test_acc  0.55394 test_loss  2.33162\n",
      "\tepoch 164\n",
      "\t- train_acc 0.93470 train_loss 0.17671\n",
      "\t- test_acc  0.53844 test_loss  2.38528\n",
      "\tepoch 165\n",
      "\t- train_acc 0.93460 train_loss 0.22897\n",
      "\t- test_acc  0.53510 test_loss  2.38295\n",
      "\tepoch 166\n",
      "\t- train_acc 0.93340 train_loss 0.11294\n",
      "\t- test_acc  0.54010 test_loss  2.50377\n",
      "\tepoch 167\n",
      "\t- train_acc 0.95840 train_loss 0.14726\n",
      "\t- test_acc  0.55728 test_loss  2.56120\n",
      "\tepoch 168\n",
      "\t- train_acc 0.94320 train_loss 0.22624\n",
      "\t- test_acc  0.54761 test_loss  2.53207\n",
      "\tepoch 169\n",
      "\t- train_acc 0.95110 train_loss 0.08296\n",
      "\t- test_acc  0.54877 test_loss  2.56813\n",
      "\tepoch 170\n",
      "\t- train_acc 0.94970 train_loss 0.09743\n",
      "\t- test_acc  0.55494 test_loss  2.67136\n",
      "\tepoch 171\n",
      "\t- train_acc 0.96380 train_loss 0.13331\n",
      "\t- test_acc  0.55544 test_loss  2.79486\n",
      "\tepoch 172\n",
      "\t- train_acc 0.95370 train_loss 0.26984\n",
      "\t- test_acc  0.54177 test_loss  3.00780\n",
      "\tepoch 173\n",
      "\t- train_acc 0.95260 train_loss 0.06347\n",
      "\t- test_acc  0.56228 test_loss  2.85778\n",
      "\tepoch 174\n",
      "\t- train_acc 0.95570 train_loss 0.12627\n",
      "\t- test_acc  0.55311 test_loss  2.65690\n",
      "\tepoch 175\n",
      "\t- train_acc 0.96230 train_loss 0.18980\n",
      "\t- test_acc  0.55044 test_loss  2.97230\n",
      "\tepoch 176\n",
      "\t- train_acc 0.97150 train_loss 0.06874\n",
      "\t- test_acc  0.55278 test_loss  2.96862\n",
      "\tepoch 177\n",
      "\t- train_acc 0.95900 train_loss 0.20466\n",
      "\t- test_acc  0.55411 test_loss  2.77673\n",
      "\tepoch 178\n"
     ]
    },
    {
     "name": "stdout",
     "output_type": "stream",
     "text": [
      "\t- train_acc 0.96890 train_loss 0.08655\n",
      "\t- test_acc  0.56428 test_loss  2.93740\n",
      "\tepoch 179\n",
      "\t- train_acc 0.96780 train_loss 0.25148\n",
      "\t- test_acc  0.56145 test_loss  2.76591\n",
      "\tepoch 180\n",
      "\t- train_acc 0.97160 train_loss 0.21639\n",
      "\t- test_acc  0.55394 test_loss  2.56830\n",
      "\tepoch 181\n",
      "\t- train_acc 0.97520 train_loss 0.12820\n",
      "\t- test_acc  0.56178 test_loss  2.91362\n",
      "\tepoch 182\n",
      "\t- train_acc 0.98070 train_loss 0.05179\n",
      "\t- test_acc  0.56462 test_loss  2.85913\n",
      "\tepoch 183\n",
      "\t- train_acc 0.97940 train_loss 0.03308\n",
      "\t- test_acc  0.56928 test_loss  2.75604\n",
      "\tepoch 184\n",
      "\t- train_acc 0.97940 train_loss 0.02832\n",
      "\t- test_acc  0.56011 test_loss  3.36111\n",
      "\tepoch 185\n",
      "\t- train_acc 0.98070 train_loss 0.03644\n",
      "\t- test_acc  0.55811 test_loss  3.04627\n",
      "\tepoch 186\n",
      "\t- train_acc 0.98240 train_loss 0.06757\n",
      "\t- test_acc  0.55528 test_loss  3.12657\n",
      "\tepoch 187\n",
      "\t- train_acc 0.98650 train_loss 0.04011\n",
      "\t- test_acc  0.55961 test_loss  3.01895\n",
      "\tepoch 188\n",
      "\t- train_acc 0.98520 train_loss 0.01785\n",
      "\t- test_acc  0.56595 test_loss  3.30145\n",
      "\tepoch 189\n",
      "\t- train_acc 0.98990 train_loss 0.03556\n",
      "\t- test_acc  0.56428 test_loss  3.10107\n",
      "\tepoch 190\n",
      "\t- train_acc 0.98720 train_loss 0.02615\n",
      "\t- test_acc  0.56362 test_loss  3.12128\n",
      "\tepoch 191\n",
      "\t- train_acc 0.98660 train_loss 0.15470\n",
      "\t- test_acc  0.56578 test_loss  3.63963\n",
      "\tepoch 192\n",
      "\t- train_acc 0.98990 train_loss 0.05321\n",
      "\t- test_acc  0.56678 test_loss  3.10909\n",
      "\tepoch 193\n",
      "\t- train_acc 0.98720 train_loss 0.01193\n",
      "\t- test_acc  0.56378 test_loss  2.75071\n",
      "\tepoch 194\n",
      "\t- train_acc 0.98950 train_loss 0.02641\n",
      "\t- test_acc  0.56362 test_loss  3.09757\n",
      "\tepoch 195\n",
      "\t- train_acc 0.99320 train_loss 0.00384\n",
      "\t- test_acc  0.56845 test_loss  3.18301\n",
      "\tepoch 196\n",
      "\t- train_acc 0.99400 train_loss 0.01079\n",
      "\t- test_acc  0.56878 test_loss  3.07787\n",
      "\tepoch 197\n",
      "\t- train_acc 0.99440 train_loss 0.01661\n",
      "\t- test_acc  0.57062 test_loss  3.15306\n",
      "\tepoch 198\n",
      "\t- train_acc 0.99390 train_loss 0.02444\n",
      "\t- test_acc  0.56745 test_loss  3.29267\n",
      "\tepoch 199\n",
      "\t- train_acc 0.99350 train_loss 0.00157\n",
      "\t- test_acc  0.56995 test_loss  3.10641\n",
      "\tepoch 200\n",
      "\t- train_acc 0.99670 train_loss 0.03727\n",
      "\t- test_acc  0.56828 test_loss  2.99059\n"
     ]
    },
    {
     "data": {
      "image/png": "[encoded data removed]",
      "text/plain": [
       "<Figure size 432x288 with 1 Axes>"
      ]
     },
     "metadata": {
      "needs_background": "light"
     },
     "output_type": "display_data"
    },
    {
     "data": {
      "image/png": "[encoded data removed]",
      "text/plain": [
       "<Figure size 432x288 with 1 Axes>"
      ]
     },
     "metadata": {
      "needs_background": "light"
     },
     "output_type": "display_data"
    },
    {
     "name": "stdout",
     "output_type": "stream",
     "text": [
      "{'Victim': 'resnet50', 'Dataset': 'ood', 'QueryType': 'random', 'QuerySize': 10000, 'Queried Logits': None, 'Attacker': 'resnet34', 'Train Loss': 0.0373, 'Train Accuracy': 99.67, 'Test Loss': 2.9906, 'Test Accuracy': 56.83}\n",
      "-----------------------------------------------------------------------------\n",
      "Loading queried ood dataset with resnet50 victim\n",
      "\t- input:17990 queried:17990\n",
      "Sampling using random with query size 20000\n"
     ]
    },
    {
     "ename": "ValueError",
     "evalue": "Cannot take a larger sample than population when replace is False",
     "output_type": "error",
     "traceback": [
      "\u001b[0;31m---------------------------------------------------------------------------\u001b[0m",
      "\u001b[0;31mValueError\u001b[0m                                Traceback (most recent call last)",
      "\u001b[0;32m/tmp/ipykernel_17856/1174358081.py\u001b[0m in \u001b[0;36m<module>\u001b[0;34m\u001b[0m\n\u001b[0;32m----> 1\u001b[0;31m \u001b[0minvestigate\u001b[0m\u001b[0;34m(\u001b[0m\u001b[0mcase4_ood\u001b[0m\u001b[0;34m,\u001b[0m \u001b[0mverbose\u001b[0m\u001b[0;34m=\u001b[0m\u001b[0;32mTrue\u001b[0m\u001b[0;34m,\u001b[0m \u001b[0mseed\u001b[0m\u001b[0;34m=\u001b[0m\u001b[0;36m42\u001b[0m\u001b[0;34m)\u001b[0m\u001b[0;34m\u001b[0m\u001b[0;34m\u001b[0m\u001b[0m\n\u001b[0m",
      "\u001b[0;32m~/dl-model-extraction/attacker/training.py\u001b[0m in \u001b[0;36minvestigate\u001b[0;34m(parameters, verbose, seed)\u001b[0m\n\u001b[1;32m    182\u001b[0m                     \u001b[0;32melse\u001b[0m\u001b[0;34m:\u001b[0m\u001b[0;34m\u001b[0m\u001b[0;34m\u001b[0m\u001b[0m\n\u001b[1;32m    183\u001b[0m                         \u001b[0;31m# query train data\u001b[0m\u001b[0;34m\u001b[0m\u001b[0;34m\u001b[0m\u001b[0;34m\u001b[0m\u001b[0m\n\u001b[0;32m--> 184\u001b[0;31m                         \u001b[0mquerytrainloader\u001b[0m \u001b[0;34m=\u001b[0m \u001b[0mquery_victim\u001b[0m\u001b[0;34m(\u001b[0m\u001b[0mvictim_type\u001b[0m\u001b[0;34m,\u001b[0m \u001b[0moutputs\u001b[0m\u001b[0;34m,\u001b[0m \u001b[0mtrainloader\u001b[0m\u001b[0;34m,\u001b[0m \u001b[0msize\u001b[0m\u001b[0;34m,\u001b[0m \u001b[0mq_type\u001b[0m\u001b[0;34m=\u001b[0m\u001b[0mquerytype\u001b[0m\u001b[0;34m)\u001b[0m\u001b[0;34m\u001b[0m\u001b[0;34m\u001b[0m\u001b[0m\n\u001b[0m\u001b[1;32m    185\u001b[0m \u001b[0;34m\u001b[0m\u001b[0m\n\u001b[1;32m    186\u001b[0m                     \u001b[0;31m# Iterate through Attacker Model\u001b[0m\u001b[0;34m\u001b[0m\u001b[0;34m\u001b[0m\u001b[0;34m\u001b[0m\u001b[0m\n",
      "\u001b[0;32m~/dl-model-extraction/attacker/query.py\u001b[0m in \u001b[0;36mquery_victim\u001b[0;34m(victim, outputs, train_loader, query_size, q_type, train)\u001b[0m\n\u001b[1;32m     24\u001b[0m \u001b[0;34m\u001b[0m\u001b[0m\n\u001b[1;32m     25\u001b[0m     \u001b[0;31m# sample data\u001b[0m\u001b[0;34m\u001b[0m\u001b[0;34m\u001b[0m\u001b[0;34m\u001b[0m\u001b[0m\n\u001b[0;32m---> 26\u001b[0;31m     \u001b[0mdataloader\u001b[0m \u001b[0;34m=\u001b[0m \u001b[0mquery_type\u001b[0m\u001b[0;34m(\u001b[0m\u001b[0mvictim\u001b[0m\u001b[0;34m,\u001b[0m \u001b[0moutputs\u001b[0m\u001b[0;34m,\u001b[0m \u001b[0mquery_loader\u001b[0m\u001b[0;34m,\u001b[0m \u001b[0mquery_size\u001b[0m\u001b[0;34m,\u001b[0m \u001b[0mfilename\u001b[0m\u001b[0;34m,\u001b[0m \u001b[0mquery_type\u001b[0m\u001b[0;34m=\u001b[0m\u001b[0mq_type\u001b[0m\u001b[0;34m)\u001b[0m\u001b[0;34m\u001b[0m\u001b[0;34m\u001b[0m\u001b[0m\n\u001b[0m\u001b[1;32m     27\u001b[0m     \u001b[0;32mreturn\u001b[0m \u001b[0mdataloader\u001b[0m\u001b[0;34m\u001b[0m\u001b[0;34m\u001b[0m\u001b[0m\n\u001b[1;32m     28\u001b[0m \u001b[0;34m\u001b[0m\u001b[0m\n",
      "\u001b[0;32m~/dl-model-extraction/attacker/query.py\u001b[0m in \u001b[0;36mquery_type\u001b[0;34m(victim, outputs, queryloader, query_size, filename, query_type)\u001b[0m\n\u001b[1;32m     80\u001b[0m     \u001b[0mprint\u001b[0m\u001b[0;34m(\u001b[0m\u001b[0;34mf'Sampling using {query_type} with query size {query_size}'\u001b[0m\u001b[0;34m)\u001b[0m\u001b[0;34m\u001b[0m\u001b[0;34m\u001b[0m\u001b[0m\n\u001b[1;32m     81\u001b[0m     \u001b[0;32mif\u001b[0m \u001b[0mquery_type\u001b[0m \u001b[0;34m==\u001b[0m \u001b[0;34m'random'\u001b[0m\u001b[0;34m:\u001b[0m\u001b[0;34m\u001b[0m\u001b[0;34m\u001b[0m\u001b[0m\n\u001b[0;32m---> 82\u001b[0;31m         \u001b[0mindices\u001b[0m \u001b[0;34m=\u001b[0m \u001b[0mnp\u001b[0m\u001b[0;34m.\u001b[0m\u001b[0mrandom\u001b[0m\u001b[0;34m.\u001b[0m\u001b[0mdefault_rng\u001b[0m\u001b[0;34m(\u001b[0m\u001b[0;34m)\u001b[0m\u001b[0;34m.\u001b[0m\u001b[0mchoice\u001b[0m\u001b[0;34m(\u001b[0m\u001b[0mlen\u001b[0m\u001b[0;34m(\u001b[0m\u001b[0mdataset\u001b[0m\u001b[0;34m)\u001b[0m\u001b[0;34m,\u001b[0m \u001b[0msize\u001b[0m\u001b[0;34m=\u001b[0m\u001b[0mquery_size\u001b[0m\u001b[0;34m,\u001b[0m \u001b[0mreplace\u001b[0m\u001b[0;34m=\u001b[0m\u001b[0;32mFalse\u001b[0m\u001b[0;34m)\u001b[0m\u001b[0;34m\u001b[0m\u001b[0;34m\u001b[0m\u001b[0m\n\u001b[0m\u001b[1;32m     83\u001b[0m     \u001b[0;32melif\u001b[0m \u001b[0mquery_type\u001b[0m \u001b[0;34m==\u001b[0m \u001b[0;34m'coreset'\u001b[0m \u001b[0;32mor\u001b[0m \u001b[0mquery_type\u001b[0m \u001b[0;34m==\u001b[0m \u001b[0;34m'coreset_cross'\u001b[0m\u001b[0;34m:\u001b[0m\u001b[0;34m\u001b[0m\u001b[0;34m\u001b[0m\u001b[0m\n\u001b[1;32m     84\u001b[0m         \u001b[0mind_dict\u001b[0m \u001b[0;34m=\u001b[0m \u001b[0mload_coreset\u001b[0m\u001b[0;34m(\u001b[0m\u001b[0mvictim\u001b[0m\u001b[0;34m[\u001b[0m\u001b[0;34m\"data\"\u001b[0m\u001b[0;34m]\u001b[0m\u001b[0;34m,\u001b[0m \u001b[0mquery_type\u001b[0m\u001b[0;34m)\u001b[0m\u001b[0;34m\u001b[0m\u001b[0;34m\u001b[0m\u001b[0m\n",
      "\u001b[0;32m_generator.pyx\u001b[0m in \u001b[0;36mnumpy.random._generator.Generator.choice\u001b[0;34m()\u001b[0m\n",
      "\u001b[0;31mValueError\u001b[0m: Cannot take a larger sample than population when replace is False"
     ]
    }
   ],
   "source": [
    "investigate(case4_ood, verbose=True, seed=42)"
   ]
  },
  {
   "cell_type": "markdown",
   "metadata": {},
   "source": [
    "## case -  4 - Part 2"
   ]
  },
  {
   "cell_type": "code",
   "execution_count": 5,
   "metadata": {},
   "outputs": [],
   "source": [
    "case4_ood_2 = {\n",
    "        \"query_size\": [15000],\n",
    "        \"query_type\": ['random'],\n",
    "        \"victim\":[{ \"data\": OOD, \"model_name\": RESNET50}],\n",
    "        \"attacker\":[RESNET34],\n",
    "        \"k_logits\": [None]\n",
    "}"
   ]
  },
  {
   "cell_type": "code",
   "execution_count": 6,
   "metadata": {},
   "outputs": [
    {
     "name": "stdout",
     "output_type": "stream",
     "text": [
      "PARAMETERS for investigation:\n",
      "{'attacker': ['resnet34'],\n",
      " 'k_logits': [None],\n",
      " 'query_size': [15000],\n",
      " 'query_type': ['random'],\n",
      " 'victim': [{'data': 'ood', 'model_name': 'resnet50'}]}\n",
      "---------------------------------------------------------------------------\n",
      "Loading queried ood dataset with resnet50 victim\n",
      "\t- input:5997 queried:5997\n",
      "Sampling using None with query size 5997\n",
      "\t- input:5997 sampled:5997\n",
      "Loading queried ood dataset with resnet50 victim\n",
      "\t- input:17990 queried:17990\n",
      "Sampling using random with query size 15000\n",
      "\t- input:17990 sampled:15000\n",
      "\n",
      "-----------------------------------------------------------------------------\n",
      "\tDataset: ood\n",
      "\tVictim: resnet50\tAttacker: resnet34\n",
      "\tQuery Type: random\tQuery Size: 15000\tLogits: None\n",
      "-----------------------------------------------------------------------------\n"
     ]
    },
    {
     "name": "stderr",
     "output_type": "stream",
     "text": [
      "100%|█████████████████████████████████████████| 133/133 [26:26<00:00, 11.93s/it]\n"
     ]
    },
    {
     "data": {
      "image/png": "[encoded data removed]",
      "text/plain": [
       "<Figure size 432x288 with 1 Axes>"
      ]
     },
     "metadata": {
      "needs_background": "light"
     },
     "output_type": "display_data"
    },
    {
     "data": {
      "image/png": "[encoded data removed]",
      "text/plain": [
       "<Figure size 432x288 with 1 Axes>"
      ]
     },
     "metadata": {
      "needs_background": "light"
     },
     "output_type": "display_data"
    },
    {
     "name": "stdout",
     "output_type": "stream",
     "text": [
      "{'Victim': 'resnet50', 'Dataset': 'ood', 'QueryType': 'random', 'QuerySize': 15000, 'Queried Logits': None, 'Attacker': 'resnet34', 'Train Loss': 0.0663, 'Train Accuracy': 97.63, 'Test Loss': 2.2923, 'Test Accuracy': 59.43}\n",
      "-----------------------------------------------------------------------------\n",
      "[{'Attacker': 'resnet34',\n",
      "  'Dataset': 'ood',\n",
      "  'Queried Logits': None,\n",
      "  'QuerySize': 15000,\n",
      "  'QueryType': 'random',\n",
      "  'Test Accuracy': 59.43,\n",
      "  'Test Loss': 2.2923,\n",
      "  'Train Accuracy': 97.63,\n",
      "  'Train Loss': 0.0663,\n",
      "  'Victim': 'resnet50'}]\n"
     ]
    }
   ],
   "source": [
    "investigate(case4_ood_2, verbose=False, seed=42)"
   ]
  },
  {
   "cell_type": "code",
   "execution_count": null,
   "metadata": {},
   "outputs": [],
   "source": []
  }
 ],
 "metadata": {
  "accelerator": "GPU",
  "colab": {
   "collapsed_sections": [],
   "name": "DL_Project",
   "provenance": []
  },
  "kernelspec": {
   "display_name": "Python [conda env:root] *",
   "language": "python",
   "name": "conda-root-py"
  },
  "language_info": {
   "codemirror_mode": {
    "name": "ipython",
    "version": 3
   },
   "file_extension": ".py",
   "mimetype": "text/x-python",
   "name": "python",
   "nbconvert_exporter": "python",
   "pygments_lexer": "ipython3",
   "version": "3.7.12"
  }
 },
 "nbformat": 4,
 "nbformat_minor": 1
}
