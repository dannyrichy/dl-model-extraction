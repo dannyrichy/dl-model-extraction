{
 "cells": [
  {
   "cell_type": "markdown",
   "metadata": {
    "id": "e1GP5NutrOin"
   },
   "source": [
    "\n",
    "# Archived"
   ]
  },
  {
   "cell_type": "markdown",
   "metadata": {},
   "source": [
    "Testing Time outputs"
   ]
  },
  {
   "cell_type": "code",
   "execution_count": null,
   "metadata": {},
   "outputs": [],
   "source": [
    "with torch.autograd.profiler.profile(use_cuda=True) as prof:\n",
    "    qtl = QueryVictim(trainloader, 1000, sampling='coreset_cross')\n",
    "print(f'Query Time:{prof.key_averages().self_cpu_time_total/1e6}s)"
   ]
  },
  {
   "cell_type": "markdown",
   "metadata": {},
   "source": [
    "Visualize random Images from CIFAR-10"
   ]
  },
  {
   "cell_type": "code",
   "execution_count": null,
   "metadata": {},
   "outputs": [],
   "source": [
    "class_names = ['air_plane', 'car', 'bird', 'cat',\n",
    "               'deer', 'dog', 'frog', 'horse', 'ship', 'truck']\n",
    "# get some random training images\n",
    "plt.figure(figsize=(10, 10))\n",
    "counter = 0\n",
    "for images, labels in trainloader:\n",
    "    for i, img in enumerate(images):\n",
    "        plt.subplot(5, 5, counter+1)\n",
    "        plt.xticks([])\n",
    "        plt.yticks([])\n",
    "        plt.grid(False)\n",
    "        img = img/2 + 0.5   # unmornalize\n",
    "        # convert (C,H,W) to (H,W,C)\n",
    "        img_show = np.transpose(img, (1, 2, 0))\n",
    "        plt.imshow(img_show, cmap=plt.cm.binary)\n",
    "        plt.xlabel(class_names[int(labels[i])], color='red', fontsize='large')\n",
    "        counter += 1\n",
    "        if counter == 25:\n",
    "            break\n",
    "    if counter == 25:\n",
    "        break\n",
    "\n",
    "plt.show()"
   ]
  },
  {
   "cell_type": "markdown",
   "metadata": {
    "id": "fo-AfuHO35n4"
   },
   "source": [
    "Load Victim from File"
   ]
  },
  {
   "cell_type": "code",
   "execution_count": null,
   "metadata": {
    "id": "4IzV4WCs34yX"
   },
   "outputs": [],
   "source": [
    "victim = ResNet34(3, ResBlock, outputs=10)\n",
    "victim.load_state_dict(torch.load('Victim_resnet34'))\n",
    "victim.eval()"
   ]
  }
 ],
 "metadata": {
  "accelerator": "GPU",
  "colab": {
   "collapsed_sections": [],
   "name": "DL_Project",
   "provenance": []
  },
  "kernelspec": {
   "display_name": "Python 3",
   "language": "python",
   "name": "python3"
  },
  "language_info": {
   "codemirror_mode": {
    "name": "ipython",
    "version": 3
   },
   "file_extension": ".py",
   "mimetype": "text/x-python",
   "name": "python",
   "nbconvert_exporter": "python",
   "pygments_lexer": "ipython3",
   "version": "3.7.12"
  }
 },
 "nbformat": 4,
 "nbformat_minor": 1
}
