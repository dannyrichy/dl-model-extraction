{
 "cells": [
  {
   "cell_type": "code",
   "execution_count": 1,
   "metadata": {},
   "outputs": [
    {
     "data": {
      "text/plain": [
       "'/home/Aishu/dl-model-extraction'"
      ]
     },
     "execution_count": 1,
     "metadata": {},
     "output_type": "execute_result"
    }
   ],
   "source": [
    "import os\n",
    "os.chdir(\"../\")\n",
    "os.getcwd()"
   ]
  },
  {
   "cell_type": "code",
   "execution_count": 2,
   "metadata": {
    "id": "idQmKzBgZqug"
   },
   "outputs": [],
   "source": [
    "from attacker.query import *\n",
    "from attacker.utils import *\n",
    "from victim.__init__ import *\n",
    "\n",
    "set_seed(42)"
   ]
  },
  {
   "cell_type": "markdown",
   "metadata": {
    "id": "n9SehmoStA7J"
   },
   "source": [
    "# Query victim model & Train attacker model"
   ]
  },
  {
   "cell_type": "code",
   "execution_count": null,
   "metadata": {
    "scrolled": false
   },
   "outputs": [],
   "source": [
    "# get dataset in dataloader\n",
    "trainloader, testloader, outputs = get_dataloader(config[\"victim\"][\"data\"])\n",
    "# initialize attacker model\n",
    "model = get_model(config[\"attacker\"], outputs)\n",
    "# train attacker model\n",
    "_ = training(model, trainloader, testloader)\n",
    "\n",
    "save_visualize(None, _,'title' )"
   ]
  },
  {
   "cell_type": "code",
   "execution_count": null,
   "metadata": {
    "id": "lMNfr2wZwGMF",
    "scrolled": false
   },
   "outputs": [],
   "source": [
    "# get dataset in dataloader\n",
    "trainloader, testloader, outputs = get_dataloader(config[\"victim\"][\"data\"])\n",
    "\n",
    "# query & save test data\n",
    "querytestloader = query_victim(config[\"victim\"], outputs, testloader, len(testloader.dataset), train=False)\n",
    "\n",
    "# query train data\n",
    "querytrainloader = query_victim(config[\"victim\"], outputs, trainloader, config[\"query_size\"], q_type=config[\"query_type\"])\n",
    "\n",
    "# initialize attacker model\n",
    "attacker = get_model(config[\"attacker\"], outputs)\n",
    "\n",
    "# train attacker model\n",
    "attacker_result = training(attacker, querytrainloader, querytestloader)\n",
    "\n",
    "# save & visualize model inference\n",
    "title = f'Trial-A_{config[\"attacker\"]}_{config[\"victim\"][\"model_name\"]}_{config[\"victim\"][\"data\"]}{config[\"query_type\"]}_{config[\"query_size\"]}'\n",
    "percent = save_visualize(attacker, attacker_result,title )\n",
    "results_dict={\"Victim\":config[\"victim\"][\"model_name\"],\n",
    "                \"Dataset\":config[\"victim\"][\"data\"],\n",
    "                \"QueryType\": config[\"query_type\"],\n",
    "                \"QuerySize\": config[\"query_size\"],\n",
    "                \"Queried Output\": 'Labels',\n",
    "                \"Attacker\": config[\"attacker\"],\n",
    "                \"Train Loss\": percent[0],\n",
    "                \"Train Accuracy\": percent[1],\n",
    "                \"Test Loss\": percent[2],\n",
    "                \"Test Accuracy\": percent[3]}\n",
    "print(results_dict)"
   ]
  },
  {
   "cell_type": "markdown",
   "metadata": {},
   "source": [
    "# Parameters"
   ]
  },
  {
   "cell_type": "raw",
   "metadata": {},
   "source": [
    "Case 1: Corseset vs Random ,\n",
    "    Attacker - Resnet34\n",
    "    Victim - Resnet50\n",
    "    klogits - 0\n",
    "    Datasest - Cifar10, Cifar100\n",
    "    QueryType - Random, Coreset\n",
    "    Query Size - 10k, 20k, 30k, 40k, 50k"
   ]
  },
  {
   "cell_type": "code",
   "execution_count": 4,
   "metadata": {},
   "outputs": [],
   "source": [
    "parameters = {\n",
    "        \"query_size\": [10000, 20000, 30000, 40000, 50000],\n",
    "        \"query_type\": ['coreset','random'],\n",
    "        \"victim\":[{ \"data\": CIFAR_10, \"model_name\": RESNET50}],\n",
    "        \"attacker\":[RESNET34]\n",
    "}"
   ]
  },
  {
   "cell_type": "raw",
   "metadata": {},
   "source": [
    "DANNY VM\n",
    "parameters = {\n",
    "        \"query_size\": [10000, 20000, 30000, 40000, 50000],\n",
    "        \"query_type\": ['coreset','random'],\n",
    "        \"victim\":[{\"data\": CIFAR_100, \"model_name\": RESNET50 }],\n",
    "        \"attacker\":[RESNET34]\n",
    "}"
   ]
  },
  {
   "cell_type": "raw",
   "metadata": {},
   "source": [
    "Case 2 : Victim vs Attacker\n",
    "    Dataset - Cifar10\n",
    "    klogits - 0\n",
    "    QueryType - Random\n",
    "    Query Size - 10k, 30k, 50k\n",
    "    Victim - R34, R50, VGG19\n",
    "    Attacker - R34, R50, VGG19"
   ]
  },
  {
   "cell_type": "raw",
   "metadata": {},
   "source": [
    "Case 3 : K-Logits vs Labels\n",
    "    Dataset - Cifar10\n",
    "    klogits - 0, 3, 10\n",
    "    QueryType - Random\n",
    "    Query Size - 10k, 30k, 50k\n",
    "    Attacker - Resnet34\n",
    "    Victim - Resnet50"
   ]
  },
  {
   "cell_type": "raw",
   "metadata": {},
   "source": [
    "Case 4 : Out of distribution Dataset\n",
    "    Dataset - ood\n",
    "    klogits - 0\n",
    "    QueryType - Random\n",
    "    Query Size - 10k, 30k, 50k\n",
    "    Attacker - Resnet34\n",
    "    Victim - Resnet50"
   ]
  },
  {
   "cell_type": "markdown",
   "metadata": {},
   "source": [
    "# Investigations"
   ]
  },
  {
   "cell_type": "code",
   "execution_count": null,
   "metadata": {
    "scrolled": false
   },
   "outputs": [],
   "source": [
    "print(f'config={config}\\n\\nparameters={parameters}\\n')\n",
    "Results = []\n",
    "# Iterate through Victim Model & Dataset\n",
    "for victim in parameters[\"victim\"]:\n",
    "    print('---------------------------------------------------------------------------')\n",
    "    # get dataset in dataloader\n",
    "    trainloader, testloader, outputs = get_dataloader(victim[\"data\"])\n",
    "\n",
    "    # query test data\n",
    "    querytestloader = query_victim(victim, outputs, testloader, len(testloader.dataset), train=False)\n",
    "\n",
    "    # Iterate through Attacker Model\n",
    "    for attacker_type in parameters[\"attacker\"]:\n",
    "        # Iterate Through Query Type\n",
    "        for querytype in parameters[\"query_type\"]:\n",
    "            # Iterate Through Query Size\n",
    "            for size in parameters[\"query_size\"]:\n",
    "                print('-----------------------------------------------------------------------------')\n",
    "                print(f'-----------------------Dataset: {victim[\"data\"]}----------------------------')\n",
    "                print(f'--------Victim: {victim[\"model_name\"]} Attacker: {attacker_type}------------')\n",
    "                print(f'---------------Query Type: {querytype} Query Size: {size}-------------------')\n",
    "\n",
    "                # query train data\n",
    "                querytrainloader = query_victim(victim, outputs, trainloader, size, q_type=querytype)\n",
    "\n",
    "                # initialize attacker model\n",
    "                attacker = get_model(attacker_type, outputs)\n",
    "\n",
    "                # train attacker model\n",
    "                attacker_result = training(attacker, querytrainloader, querytestloader)\n",
    "\n",
    "                # save & visualize model inference\n",
    "                title = f'A_{attacker_type}_{victim[\"model_name\"]}_{victim[\"data\"]}_{querytype}_{size}'\n",
    "                percent = SaveVisualize(attacker, attacker_result, title)\n",
    "                results_dict={\"Victim\":victim[\"model_name\"],\n",
    "                                \"Dataset\":victim[\"data\"],\n",
    "                                \"QueryType\": querytype,\n",
    "                                \"QuerySize\": size,\n",
    "                                \"Queried Output\": 'Labels',\n",
    "                                \"Attacker\": attacker_type,\n",
    "                                \"Train Loss\": percent[0],\n",
    "                                \"Train Accuracy\": percent[1],\n",
    "                                \"Test Loss\": percent[2],\n",
    "                                \"Test Accuracy\": percent[3]}\n",
    "\n",
    "                print(results_dict)\n",
    "                Results.append(results_dict)\n",
    "                print('-----------------------------------------------------------------------------')"
   ]
  },
  {
   "cell_type": "code",
   "execution_count": null,
   "metadata": {
    "scrolled": false
   },
   "outputs": [],
   "source": [
    "Results"
   ]
  }
 ],
 "metadata": {
  "accelerator": "GPU",
  "colab": {
   "collapsed_sections": [],
   "name": "DL_Project",
   "provenance": []
  },
  "kernelspec": {
   "display_name": "Python [conda env:root] *",
   "language": "python",
   "name": "conda-root-py"
  },
  "language_info": {
   "codemirror_mode": {
    "name": "ipython",
    "version": 3
   },
   "file_extension": ".py",
   "mimetype": "text/x-python",
   "name": "python",
   "nbconvert_exporter": "python",
   "pygments_lexer": "ipython3",
   "version": "3.7.12"
  }
 },
 "nbformat": 4,
 "nbformat_minor": 1
}
