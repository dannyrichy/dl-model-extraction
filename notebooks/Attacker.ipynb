{
 "cells": [
  {
   "cell_type": "code",
   "execution_count": null,
   "metadata": {},
   "outputs": [],
   "source": [
    "import os\n",
    "os.chdir(\"../\")\n",
    "os.getcwd()"
   ]
  },
  {
   "cell_type": "code",
   "execution_count": null,
   "metadata": {
    "id": "idQmKzBgZqug"
   },
   "outputs": [],
   "source": [
    "from attacker.query import *\n",
    "from attacker.utils import *\n",
    "\n",
    "set_seed(42)\n",
    "\n",
    "# REF: https://towardsdev.com/implement-resnet-with-pytorch-a9fb40a77448"
   ]
  },
  {
   "cell_type": "markdown",
   "metadata": {
    "id": "n9SehmoStA7J"
   },
   "source": [
    "# Query victim model & Train attacker model"
   ]
  },
  {
   "cell_type": "markdown",
   "metadata": {},
   "source": [
    "Uses default configuration info"
   ]
  },
  {
   "cell_type": "code",
   "execution_count": null,
   "metadata": {
    "id": "lMNfr2wZwGMF"
   },
   "outputs": [],
   "source": [
    "# get dataset in dataloader\n",
    "trainloader, testloader, outputs = getDataset(config[\"victim\"][\"data\"])\n",
    "\n",
    "# query & save test data\n",
    "querytestloader = QueryVictim(config[\"victim\"], outputs, testloader, len(testloader.dataset))\n",
    "\n",
    "# query train data\n",
    "querytrainloader = QueryVictim(config[\"victim\"], outputs, trainloader, config[\"query_size\"], query_type=config[\"query_type\"])\n",
    "\n",
    "# initialize attacker model\n",
    "attacker = getModel(config[\"attacker\"], outputs)\n",
    "\n",
    "# train attacker model\n",
    "attacker_result = Training(attacker, querytrainloader, querytestloader, (-1, 3, 32, 32), config[\"epochs\"], \n",
    "                           optimizer=torch.optim.Adam(attacker.parameters(), lr=config[\"learning_rate\"]),\n",
    "                           loss=torch.nn.CrossEntropyLoss())\n",
    "\n",
    "# save & visualize model inference\n",
    "title = f'Trial-A_{config[\"attacker\"]}_{config[\"victim\"][\"model_name\"]}_{config[\"victim\"][\"data\"]}{config[\"query_type\"]}_{config[\"query_size\"]}'\n",
    "percent = SaveVisualize(attacker, attacker_result,title )\n",
    "results_dict={\"Victim\":config[\"victim\"][\"model_name\"],\n",
    "                \"Dataset\":config[\"victim\"][\"data\"],\n",
    "                \"QueryType\": config[\"query_type\"],\n",
    "                \"QuerySize\": config[\"query_size\"],\n",
    "                \"Attacker\": 'resnet34',\n",
    "                \"Train Loss\": percent[0],\n",
    "                \"Train Accuracy\": percent[1],\n",
    "                \"Test Loss\": percent[2],\n",
    "                \"Test Accuracy\": percent[3]}\n",
    "print(results_dict)"
   ]
  },
  {
   "cell_type": "markdown",
   "metadata": {},
   "source": [
    "# Investigations"
   ]
  },
  {
   "cell_type": "code",
   "execution_count": null,
   "metadata": {},
   "outputs": [],
   "source": [
    "Results = []\n",
    "# Iterate through Victim Model & Dataset\n",
    "for victim in parameters[\"victim\"]:\n",
    "    print('---------------------------------------------------------------------------')\n",
    "    # get dataset in dataloader\n",
    "    trainloader, testloader, outputs = getDataset(victim[\"data\"])\n",
    "\n",
    "    # query test data\n",
    "    querytestloader = QueryVictim(victim, outputs, testloader, len(testloader.dataset))\n",
    "    \n",
    "    # Iterate through Attacker Model\n",
    "    for attacker_type in parameters[\"attacker\"]:\n",
    "        # Iterate Through Query Type\n",
    "        for querytype in parameters[\"query_type\"]:\n",
    "            # Iterate Through Query Size\n",
    "            for size in parameters[\"query_size\"]:\n",
    "                print('-----------------------------------------------------------------------------')\n",
    "                print(f'-----------------------Dataset: {victim[\"data\"]}----------------------------')\n",
    "                print(f'--------Victim: {victim[\"model_name\"]} Attacker: {attacker_type}------------')\n",
    "                print(f'---------------Query Type: {querytype} Query Size: {size}-------------------')\n",
    "\n",
    "                # query train data\n",
    "                querytrainloader = QueryVictim(victim, outputs, trainloader, size, query_type=querytype)\n",
    "\n",
    "                # initialize attacker model\n",
    "                attacker = getModel(attacker_type, outputs)\n",
    "\n",
    "                # train attacker model\n",
    "                attacker_result = Training(attacker, querytrainloader, querytestloader, (-1, 3, 32, 32), config[\"epochs\"], \n",
    "                                           optimizer=torch.optim.Adam(attacker.parameters(), lr=config[\"learning_rate\"]),\n",
    "                                           loss=torch.nn.CrossEntropyLoss())\n",
    "\n",
    "                # save & visualize model inference\n",
    "                title = f'A_{attacker_type}_{victim[\"model_name\"]}_{victim[\"data\"]}_{querytype}_{size}'\n",
    "                percent = SaveVisualize(attacker, attacker_result, title)\n",
    "                results_dict={\"Victim\":victim[\"model_name\"],\n",
    "                                \"Dataset\":victim[\"data\"],\n",
    "                                \"QueryType\": querytype,\n",
    "                                \"QuerySize\": size,\n",
    "                                \"Attacker\": attacker_type,\n",
    "                                \"Train Loss\": percent[0],\n",
    "                                \"Train Accuracy\": percent[1],\n",
    "                                \"Test Loss\": percent[2],\n",
    "                                \"Test Accuracy\": percent[3]}\n",
    "\n",
    "                print(results_dict)\n",
    "                Results.append(results_dict)\n",
    "                print('-----------------------------------------------------------------------------')"
   ]
  }
 ],
 "metadata": {
  "accelerator": "GPU",
  "colab": {
   "collapsed_sections": [],
   "name": "DL_Project",
   "provenance": []
  },
  "kernelspec": {
   "display_name": "Python [conda env:root] *",
   "language": "python",
   "name": "conda-root-py"
  },
  "language_info": {
   "codemirror_mode": {
    "name": "ipython",
    "version": 3
   },
   "file_extension": ".py",
   "mimetype": "text/x-python",
   "name": "python",
   "nbconvert_exporter": "python",
   "pygments_lexer": "ipython3",
   "version": "3.7.12"
  }
 },
 "nbformat": 4,
 "nbformat_minor": 1
}
