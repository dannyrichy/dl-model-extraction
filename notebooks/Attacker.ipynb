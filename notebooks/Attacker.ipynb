{
 "cells": [
  {
   "cell_type": "code",
   "execution_count": 1,
   "metadata": {},
   "outputs": [
    {
     "data": {
      "text/plain": [
       "'/home/Aishu/dl-model-extraction'"
      ]
     },
     "execution_count": 1,
     "metadata": {},
     "output_type": "execute_result"
    }
   ],
   "source": [
    "import os\n",
    "os.chdir(\"../\")\n",
    "os.getcwd()"
   ]
  },
  {
   "cell_type": "code",
   "execution_count": 2,
   "metadata": {
    "id": "idQmKzBgZqug"
   },
   "outputs": [],
   "source": [
    "from attacker.query import *\n",
    "from attacker.utils import *\n",
    "from victim.__init__ import *\n",
    "\n",
    "set_seed(42)"
   ]
  },
  {
   "cell_type": "markdown",
   "metadata": {
    "id": "n9SehmoStA7J"
   },
   "source": [
    "# Query victim model & Train attacker model"
   ]
  },
  {
   "cell_type": "code",
   "execution_count": 5,
   "metadata": {},
   "outputs": [],
   "source": [
    "config = {\n",
    "    \"batch_size\": 500,\n",
    "    \"learning_rate\": 0.008,\n",
    "    \"epochs\": 80,\n",
    "    \"query_size\":10000,\n",
    "    \"query_type\": 'random',\n",
    "    \"victim\": { \"data\": CIFAR_10,  \"model_name\": RESNET50 },\n",
    "    \"attacker\": RESNET34\n",
    "}"
   ]
  },
  {
   "cell_type": "code",
   "execution_count": 4,
   "metadata": {},
   "outputs": [
    {
     "name": "stdout",
     "output_type": "stream",
     "text": [
      "Files already downloaded and verified\n",
      "Files already downloaded and verified\n",
      "epoch 1\n",
      "    - train_acc 0.22752 train_loss 1.87244\n",
      "    - test_acc  0.29960 test_loss  2.07310\n",
      "epoch 2\n",
      "    - train_acc 0.33908 train_loss 1.83579\n",
      "    - test_acc  0.31730 test_loss  5.97183\n",
      "epoch 3\n",
      "    - train_acc 0.41780 train_loss 1.49179\n",
      "    - test_acc  0.35300 test_loss  2.22720\n",
      "epoch 4\n",
      "    - train_acc 0.47046 train_loss 1.38746\n",
      "    - test_acc  0.47650 test_loss  1.43808\n",
      "epoch 5\n",
      "    - train_acc 0.53822 train_loss 1.17589\n",
      "    - test_acc  0.53410 test_loss  1.34388\n",
      "epoch 6\n",
      "    - train_acc 0.49670 train_loss 1.24104\n",
      "    - test_acc  0.55030 test_loss  1.32284\n",
      "epoch 7\n",
      "    - train_acc 0.59548 train_loss 1.15196\n",
      "    - test_acc  0.56860 test_loss  1.26630\n",
      "epoch 8\n",
      " 3500 ..."
     ]
    },
    {
     "ename": "KeyboardInterrupt",
     "evalue": "",
     "output_type": "error",
     "traceback": [
      "\u001b[0;31m---------------------------------------------------------------------------\u001b[0m",
      "\u001b[0;31mKeyboardInterrupt\u001b[0m                         Traceback (most recent call last)",
      "\u001b[0;32m/tmp/ipykernel_23499/3433416196.py\u001b[0m in \u001b[0;36m<module>\u001b[0;34m\u001b[0m\n\u001b[1;32m      3\u001b[0m result = training(model, trainloader, testloader, config[\"epochs\"],\n\u001b[1;32m      4\u001b[0m                            \u001b[0moptimizer\u001b[0m\u001b[0;34m=\u001b[0m\u001b[0mtorch\u001b[0m\u001b[0;34m.\u001b[0m\u001b[0moptim\u001b[0m\u001b[0;34m.\u001b[0m\u001b[0mAdam\u001b[0m\u001b[0;34m(\u001b[0m\u001b[0mmodel\u001b[0m\u001b[0;34m.\u001b[0m\u001b[0mparameters\u001b[0m\u001b[0;34m(\u001b[0m\u001b[0;34m)\u001b[0m\u001b[0;34m,\u001b[0m \u001b[0mlr\u001b[0m\u001b[0;34m=\u001b[0m\u001b[0mconfig\u001b[0m\u001b[0;34m[\u001b[0m\u001b[0;34m\"learning_rate\"\u001b[0m\u001b[0;34m]\u001b[0m\u001b[0;34m)\u001b[0m\u001b[0;34m,\u001b[0m\u001b[0;34m\u001b[0m\u001b[0;34m\u001b[0m\u001b[0m\n\u001b[0;32m----> 5\u001b[0;31m                            loss=torch.nn.CrossEntropyLoss())\n\u001b[0m",
      "\u001b[0;32m~/dl-model-extraction/attacker/utils.py\u001b[0m in \u001b[0;36mtraining\u001b[0;34m(model, train_loader, test_loader, epochs, optimizer, loss)\u001b[0m\n\u001b[1;32m    137\u001b[0m                 \u001b[0moutputs\u001b[0m \u001b[0;34m=\u001b[0m \u001b[0mmodel\u001b[0m\u001b[0;34m(\u001b[0m\u001b[0mxList\u001b[0m\u001b[0;34m)\u001b[0m\u001b[0;34m\u001b[0m\u001b[0;34m\u001b[0m\u001b[0m\n\u001b[1;32m    138\u001b[0m                 \u001b[0mtrain_loss_func\u001b[0m \u001b[0;34m=\u001b[0m \u001b[0mloss\u001b[0m\u001b[0;34m(\u001b[0m\u001b[0moutputs\u001b[0m\u001b[0;34m,\u001b[0m \u001b[0myList\u001b[0m\u001b[0;34m)\u001b[0m\u001b[0;34m\u001b[0m\u001b[0;34m\u001b[0m\u001b[0m\n\u001b[0;32m--> 139\u001b[0;31m                 \u001b[0mtrain_loss_func\u001b[0m\u001b[0;34m.\u001b[0m\u001b[0mbackward\u001b[0m\u001b[0;34m(\u001b[0m\u001b[0;34m)\u001b[0m\u001b[0;34m\u001b[0m\u001b[0;34m\u001b[0m\u001b[0m\n\u001b[0m\u001b[1;32m    140\u001b[0m                 \u001b[0moptimizer\u001b[0m\u001b[0;34m.\u001b[0m\u001b[0mstep\u001b[0m\u001b[0;34m(\u001b[0m\u001b[0;34m)\u001b[0m\u001b[0;34m\u001b[0m\u001b[0;34m\u001b[0m\u001b[0m\n\u001b[1;32m    141\u001b[0m \u001b[0;34m\u001b[0m\u001b[0m\n",
      "\u001b[0;32m/opt/conda/lib/python3.7/site-packages/torch/optim/optimizer.py\u001b[0m in \u001b[0;36mwrapper\u001b[0;34m(*args, **kwargs)\u001b[0m\n\u001b[1;32m     86\u001b[0m                 \u001b[0mprofile_name\u001b[0m \u001b[0;34m=\u001b[0m \u001b[0;34m\"Optimizer.step#{}.step\"\u001b[0m\u001b[0;34m.\u001b[0m\u001b[0mformat\u001b[0m\u001b[0;34m(\u001b[0m\u001b[0mobj\u001b[0m\u001b[0;34m.\u001b[0m\u001b[0m__class__\u001b[0m\u001b[0;34m.\u001b[0m\u001b[0m__name__\u001b[0m\u001b[0;34m)\u001b[0m\u001b[0;34m\u001b[0m\u001b[0;34m\u001b[0m\u001b[0m\n\u001b[1;32m     87\u001b[0m                 \u001b[0;32mwith\u001b[0m \u001b[0mtorch\u001b[0m\u001b[0;34m.\u001b[0m\u001b[0mautograd\u001b[0m\u001b[0;34m.\u001b[0m\u001b[0mprofiler\u001b[0m\u001b[0;34m.\u001b[0m\u001b[0mrecord_function\u001b[0m\u001b[0;34m(\u001b[0m\u001b[0mprofile_name\u001b[0m\u001b[0;34m)\u001b[0m\u001b[0;34m:\u001b[0m\u001b[0;34m\u001b[0m\u001b[0;34m\u001b[0m\u001b[0m\n\u001b[0;32m---> 88\u001b[0;31m                     \u001b[0;32mreturn\u001b[0m \u001b[0mfunc\u001b[0m\u001b[0;34m(\u001b[0m\u001b[0;34m*\u001b[0m\u001b[0margs\u001b[0m\u001b[0;34m,\u001b[0m \u001b[0;34m**\u001b[0m\u001b[0mkwargs\u001b[0m\u001b[0;34m)\u001b[0m\u001b[0;34m\u001b[0m\u001b[0;34m\u001b[0m\u001b[0m\n\u001b[0m\u001b[1;32m     89\u001b[0m             \u001b[0;32mreturn\u001b[0m \u001b[0mwrapper\u001b[0m\u001b[0;34m\u001b[0m\u001b[0;34m\u001b[0m\u001b[0m\n\u001b[1;32m     90\u001b[0m \u001b[0;34m\u001b[0m\u001b[0m\n",
      "\u001b[0;32m/opt/conda/lib/python3.7/site-packages/torch/autograd/grad_mode.py\u001b[0m in \u001b[0;36mdecorate_context\u001b[0;34m(*args, **kwargs)\u001b[0m\n\u001b[1;32m     25\u001b[0m         \u001b[0;32mdef\u001b[0m \u001b[0mdecorate_context\u001b[0m\u001b[0;34m(\u001b[0m\u001b[0;34m*\u001b[0m\u001b[0margs\u001b[0m\u001b[0;34m,\u001b[0m \u001b[0;34m**\u001b[0m\u001b[0mkwargs\u001b[0m\u001b[0;34m)\u001b[0m\u001b[0;34m:\u001b[0m\u001b[0;34m\u001b[0m\u001b[0;34m\u001b[0m\u001b[0m\n\u001b[1;32m     26\u001b[0m             \u001b[0;32mwith\u001b[0m \u001b[0mself\u001b[0m\u001b[0;34m.\u001b[0m\u001b[0mclone\u001b[0m\u001b[0;34m(\u001b[0m\u001b[0;34m)\u001b[0m\u001b[0;34m:\u001b[0m\u001b[0;34m\u001b[0m\u001b[0;34m\u001b[0m\u001b[0m\n\u001b[0;32m---> 27\u001b[0;31m                 \u001b[0;32mreturn\u001b[0m \u001b[0mfunc\u001b[0m\u001b[0;34m(\u001b[0m\u001b[0;34m*\u001b[0m\u001b[0margs\u001b[0m\u001b[0;34m,\u001b[0m \u001b[0;34m**\u001b[0m\u001b[0mkwargs\u001b[0m\u001b[0;34m)\u001b[0m\u001b[0;34m\u001b[0m\u001b[0;34m\u001b[0m\u001b[0m\n\u001b[0m\u001b[1;32m     28\u001b[0m         \u001b[0;32mreturn\u001b[0m \u001b[0mcast\u001b[0m\u001b[0;34m(\u001b[0m\u001b[0mF\u001b[0m\u001b[0;34m,\u001b[0m \u001b[0mdecorate_context\u001b[0m\u001b[0;34m)\u001b[0m\u001b[0;34m\u001b[0m\u001b[0;34m\u001b[0m\u001b[0m\n\u001b[1;32m     29\u001b[0m \u001b[0;34m\u001b[0m\u001b[0m\n",
      "\u001b[0;32m/opt/conda/lib/python3.7/site-packages/torch/optim/adam.py\u001b[0m in \u001b[0;36mstep\u001b[0;34m(self, closure)\u001b[0m\n\u001b[1;32m    151\u001b[0m                    \u001b[0mweight_decay\u001b[0m\u001b[0;34m=\u001b[0m\u001b[0mgroup\u001b[0m\u001b[0;34m[\u001b[0m\u001b[0;34m'weight_decay'\u001b[0m\u001b[0;34m]\u001b[0m\u001b[0;34m,\u001b[0m\u001b[0;34m\u001b[0m\u001b[0;34m\u001b[0m\u001b[0m\n\u001b[1;32m    152\u001b[0m                    \u001b[0meps\u001b[0m\u001b[0;34m=\u001b[0m\u001b[0mgroup\u001b[0m\u001b[0;34m[\u001b[0m\u001b[0;34m'eps'\u001b[0m\u001b[0;34m]\u001b[0m\u001b[0;34m,\u001b[0m\u001b[0;34m\u001b[0m\u001b[0;34m\u001b[0m\u001b[0m\n\u001b[0;32m--> 153\u001b[0;31m                    maximize=group['maximize'])\n\u001b[0m\u001b[1;32m    154\u001b[0m         \u001b[0;32mreturn\u001b[0m \u001b[0mloss\u001b[0m\u001b[0;34m\u001b[0m\u001b[0;34m\u001b[0m\u001b[0m\n",
      "\u001b[0;32m/opt/conda/lib/python3.7/site-packages/torch/optim/_functional.py\u001b[0m in \u001b[0;36madam\u001b[0;34m(params, grads, exp_avgs, exp_avg_sqs, max_exp_avg_sqs, state_steps, amsgrad, beta1, beta2, lr, weight_decay, eps, maximize)\u001b[0m\n\u001b[1;32m     95\u001b[0m \u001b[0;34m\u001b[0m\u001b[0m\n\u001b[1;32m     96\u001b[0m         \u001b[0;31m# Decay the first and second moment running average coefficient\u001b[0m\u001b[0;34m\u001b[0m\u001b[0;34m\u001b[0m\u001b[0;34m\u001b[0m\u001b[0m\n\u001b[0;32m---> 97\u001b[0;31m         \u001b[0mexp_avg\u001b[0m\u001b[0;34m.\u001b[0m\u001b[0mmul_\u001b[0m\u001b[0;34m(\u001b[0m\u001b[0mbeta1\u001b[0m\u001b[0;34m)\u001b[0m\u001b[0;34m.\u001b[0m\u001b[0madd_\u001b[0m\u001b[0;34m(\u001b[0m\u001b[0mgrad\u001b[0m\u001b[0;34m,\u001b[0m \u001b[0malpha\u001b[0m\u001b[0;34m=\u001b[0m\u001b[0;36m1\u001b[0m \u001b[0;34m-\u001b[0m \u001b[0mbeta1\u001b[0m\u001b[0;34m)\u001b[0m\u001b[0;34m\u001b[0m\u001b[0;34m\u001b[0m\u001b[0m\n\u001b[0m\u001b[1;32m     98\u001b[0m         \u001b[0mexp_avg_sq\u001b[0m\u001b[0;34m.\u001b[0m\u001b[0mmul_\u001b[0m\u001b[0;34m(\u001b[0m\u001b[0mbeta2\u001b[0m\u001b[0;34m)\u001b[0m\u001b[0;34m.\u001b[0m\u001b[0maddcmul_\u001b[0m\u001b[0;34m(\u001b[0m\u001b[0mgrad\u001b[0m\u001b[0;34m,\u001b[0m \u001b[0mgrad\u001b[0m\u001b[0;34m.\u001b[0m\u001b[0mconj\u001b[0m\u001b[0;34m(\u001b[0m\u001b[0;34m)\u001b[0m\u001b[0;34m,\u001b[0m \u001b[0mvalue\u001b[0m\u001b[0;34m=\u001b[0m\u001b[0;36m1\u001b[0m \u001b[0;34m-\u001b[0m \u001b[0mbeta2\u001b[0m\u001b[0;34m)\u001b[0m\u001b[0;34m\u001b[0m\u001b[0;34m\u001b[0m\u001b[0m\n\u001b[1;32m     99\u001b[0m         \u001b[0;32mif\u001b[0m \u001b[0mamsgrad\u001b[0m\u001b[0;34m:\u001b[0m\u001b[0;34m\u001b[0m\u001b[0;34m\u001b[0m\u001b[0m\n",
      "\u001b[0;31mKeyboardInterrupt\u001b[0m: "
     ]
    }
   ],
   "source": [
    "trainloader, testloader, outputs = get_dataloader(config[\"victim\"][\"data\"])\n",
    "model = get_model(config[\"attacker\"], outputs)\n",
    "result = training(model, trainloader, testloader, config[\"epochs\"],\n",
    "                           optimizer=torch.optim.Adam(model.parameters(), lr=config[\"learning_rate\"]),\n",
    "                           loss=torch.nn.CrossEntropyLoss())"
   ]
  },
  {
   "cell_type": "code",
   "execution_count": 6,
   "metadata": {
    "id": "lMNfr2wZwGMF",
    "scrolled": false
   },
   "outputs": [
    {
     "name": "stdout",
     "output_type": "stream",
     "text": [
      "Files already downloaded and verified\n",
      "Files already downloaded and verified\n",
      "Loading queried cifar_10 dataset with resnet50 victim\n",
      "    - input:10000 queried:10000\n",
      "Sample using None with query size 10000\n",
      "    - input:10000 sampled:10000\n",
      "Loading queried cifar_10 dataset with resnet50 victim\n",
      "    - input:50000 queried:50000\n",
      "Sample using random with query size 10000\n",
      "    - input:50000 sampled:10000\n",
      "epoch 1\n",
      "    - train_acc 0.15360 train_loss 2.26540\n",
      "    - test_acc  0.09850 test_loss  910.39594\n",
      "epoch 2\n",
      "    - train_acc 0.22450 train_loss 2.02166\n",
      "    - test_acc  0.15460 test_loss  3.37208\n",
      "epoch 3\n",
      "    - train_acc 0.26860 train_loss 2.27981\n",
      "    - test_acc  0.09610 test_loss  25.74615\n",
      "epoch 4\n",
      "    - train_acc 0.21220 train_loss 2.17508\n",
      "    - test_acc  0.13860 test_loss  3.60532\n",
      "epoch 5\n",
      "    - train_acc 0.29200 train_loss 1.87941\n",
      "    - test_acc  0.31200 test_loss  2.21972\n",
      "epoch 6\n",
      "    - train_acc 0.32650 train_loss 2.14915\n",
      "    - test_acc  0.33550 test_loss  2.43680\n",
      "epoch 7\n",
      "    - train_acc 0.35970 train_loss 1.61961\n",
      "    - test_acc  0.33680 test_loss  1.72959\n",
      "epoch 8\n",
      "    - train_acc 0.39270 train_loss 1.56094\n",
      "    - test_acc  0.33800 test_loss  1.78812\n",
      "epoch 9\n",
      "    - train_acc 0.41440 train_loss 1.52746\n",
      "    - test_acc  0.41730 test_loss  1.57146\n",
      "epoch 10\n",
      "    - train_acc 0.43980 train_loss 1.50096\n",
      "    - test_acc  0.39010 test_loss  1.56259\n",
      "epoch 11\n",
      "    - train_acc 0.44600 train_loss 1.42732\n",
      "    - test_acc  0.41830 test_loss  1.61889\n",
      "epoch 12\n",
      "    - train_acc 0.45780 train_loss 1.44750\n",
      "    - test_acc  0.39410 test_loss  1.65761\n",
      "epoch 13\n",
      "    - train_acc 0.49480 train_loss 1.32037\n",
      "    - test_acc  0.45730 test_loss  1.46269\n",
      "epoch 14\n",
      "    - train_acc 0.50830 train_loss 1.32973\n",
      "    - test_acc  0.46920 test_loss  1.41478\n",
      "epoch 15\n",
      "    - train_acc 0.52810 train_loss 1.24552\n",
      "    - test_acc  0.44990 test_loss  1.45156\n",
      "epoch 16\n",
      "    - train_acc 0.54520 train_loss 1.20743\n",
      "    - test_acc  0.46170 test_loss  1.43262\n",
      "epoch 17\n",
      "    - train_acc 0.57170 train_loss 1.23979\n",
      "    - test_acc  0.45550 test_loss  1.46828\n",
      "epoch 18\n",
      "    - train_acc 0.59800 train_loss 1.15490\n",
      "    - test_acc  0.46850 test_loss  1.55334\n",
      "epoch 19\n",
      "    - train_acc 0.62860 train_loss 0.96702\n",
      "    - test_acc  0.50860 test_loss  1.46326\n",
      "epoch 20\n",
      "    - train_acc 0.63120 train_loss 1.25074\n",
      "    - test_acc  0.50630 test_loss  1.48065\n",
      "epoch 21\n",
      "    - train_acc 0.64580 train_loss 1.04510\n",
      "    - test_acc  0.44600 test_loss  1.57433\n",
      "epoch 22\n",
      "    - train_acc 0.68230 train_loss 0.92091\n",
      "    - test_acc  0.51990 test_loss  1.39448\n",
      "epoch 23\n",
      "    - train_acc 0.71190 train_loss 0.76497\n",
      "    - test_acc  0.53390 test_loss  1.46380\n",
      "epoch 24\n",
      "    - train_acc 0.74550 train_loss 0.82271\n",
      "    - test_acc  0.50470 test_loss  1.65222\n",
      "epoch 25\n",
      "    - train_acc 0.69150 train_loss 0.98246\n",
      "    - test_acc  0.49580 test_loss  1.55361\n",
      "epoch 26\n",
      "    - train_acc 0.75730 train_loss 0.70137\n",
      "    - test_acc  0.51400 test_loss  1.68926\n",
      "epoch 27\n",
      "    - train_acc 0.80140 train_loss 0.59845\n",
      "    - test_acc  0.51290 test_loss  1.95011\n",
      "epoch 28\n",
      "    - train_acc 0.82860 train_loss 0.57344\n",
      "    - test_acc  0.52570 test_loss  1.93647\n",
      "epoch 29\n",
      "    - train_acc 0.85720 train_loss 0.38194\n",
      "    - test_acc  0.52160 test_loss  2.18008\n",
      "epoch 30\n",
      "    - train_acc 0.87690 train_loss 0.39781\n",
      "    - test_acc  0.54860 test_loss  1.68959\n",
      "epoch 31\n",
      "    - train_acc 0.89040 train_loss 0.37747\n",
      "    - test_acc  0.51450 test_loss  3.93398\n",
      "epoch 32\n",
      "    - train_acc 0.89980 train_loss 0.27386\n",
      "    - test_acc  0.51310 test_loss  2.38899\n",
      "epoch 33\n",
      "    - train_acc 0.92400 train_loss 0.19830\n",
      "    - test_acc  0.54020 test_loss  2.36972\n",
      "epoch 34\n",
      "    - train_acc 0.92470 train_loss 0.25695\n",
      "    - test_acc  0.51500 test_loss  2.40068\n",
      "epoch 35\n",
      "    - train_acc 0.92530 train_loss 0.40421\n",
      "    - test_acc  0.53300 test_loss  2.45944\n",
      "epoch 36\n",
      "    - train_acc 0.93480 train_loss 0.25951\n",
      "    - test_acc  0.53410 test_loss  2.61186\n",
      "epoch 37\n",
      "    - train_acc 0.94420 train_loss 0.20420\n",
      "    - test_acc  0.54290 test_loss  2.38465\n",
      "epoch 38\n",
      "    - train_acc 0.95060 train_loss 0.13204\n",
      "    - test_acc  0.54470 test_loss  2.57054\n",
      "epoch 39\n",
      "    - train_acc 0.94270 train_loss 0.18726\n",
      "    - test_acc  0.53580 test_loss  2.68951\n",
      "epoch 40\n",
      "    - train_acc 0.94690 train_loss 0.14037\n",
      "    - test_acc  0.54410 test_loss  2.91829\n",
      "epoch 41\n",
      "    - train_acc 0.96730 train_loss 0.07382\n",
      "    - test_acc  0.54920 test_loss  2.73370\n",
      "epoch 42\n",
      "    - train_acc 0.98160 train_loss 0.05359\n",
      "    - test_acc  0.55930 test_loss  2.88454\n",
      "epoch 43\n",
      "    - train_acc 0.93700 train_loss 0.35373\n",
      "    - test_acc  0.49330 test_loss  2.88185\n",
      "epoch 44\n",
      "    - train_acc 0.92500 train_loss 0.15949\n",
      "    - test_acc  0.56140 test_loss  2.17395\n",
      "epoch 45\n",
      "    - train_acc 0.97400 train_loss 0.04616\n",
      "    - test_acc  0.56360 test_loss  2.43713\n",
      "epoch 46\n",
      "    - train_acc 0.98580 train_loss 0.05363\n",
      "    - test_acc  0.55630 test_loss  2.52567\n",
      "epoch 47\n",
      "    - train_acc 0.99040 train_loss 0.02900\n",
      "    - test_acc  0.55270 test_loss  2.97832\n",
      "epoch 48\n",
      "    - train_acc 0.97950 train_loss 0.10578\n",
      "    - test_acc  0.54710 test_loss  3.15691\n",
      "epoch 49\n",
      "    - train_acc 0.97570 train_loss 0.05618\n",
      "    - test_acc  0.55640 test_loss  2.90825\n",
      "epoch 50\n",
      "    - train_acc 0.97800 train_loss 0.08898\n",
      "    - test_acc  0.56520 test_loss  2.78314\n",
      "epoch 51\n",
      "    - train_acc 0.98210 train_loss 0.05689\n",
      "    - test_acc  0.56420 test_loss  2.98224\n",
      "epoch 52\n",
      "    - train_acc 0.98700 train_loss 0.06176\n",
      "    - test_acc  0.55210 test_loss  3.17991\n",
      "epoch 53\n",
      "    - train_acc 0.98760 train_loss 0.04653\n",
      "    - test_acc  0.56410 test_loss  3.22752\n",
      "epoch 54\n",
      "    - train_acc 0.98700 train_loss 0.05082\n",
      "    - test_acc  0.54890 test_loss  3.02031\n",
      "epoch 55\n",
      "    - train_acc 0.97890 train_loss 0.03882\n",
      "    - test_acc  0.56360 test_loss  3.04064\n",
      "epoch 56\n",
      "    - train_acc 0.97840 train_loss 0.03823\n",
      "    - test_acc  0.55770 test_loss  3.20017\n",
      "epoch 57\n",
      "    - train_acc 0.98080 train_loss 0.04012\n",
      "    - test_acc  0.57010 test_loss  3.13414\n",
      "epoch 58\n",
      "    - train_acc 0.98600 train_loss 0.05241\n",
      "    - test_acc  0.56420 test_loss  3.09290\n",
      "epoch 59\n",
      "    - train_acc 0.98790 train_loss 0.04105\n",
      "    - test_acc  0.56510 test_loss  3.06483\n",
      "epoch 60\n",
      "    - train_acc 0.98700 train_loss 0.02579\n",
      "    - test_acc  0.56590 test_loss  3.23356\n",
      "epoch 61\n",
      "    - train_acc 0.98850 train_loss 0.01766\n",
      "    - test_acc  0.56580 test_loss  3.10633\n",
      "epoch 62\n",
      "    - train_acc 0.98930 train_loss 0.04601\n",
      "    - test_acc  0.55580 test_loss  3.51089\n",
      "epoch 63\n",
      "    - train_acc 0.99030 train_loss 0.06174\n",
      "    - test_acc  0.56880 test_loss  3.51081\n",
      "epoch 64\n",
      "    - train_acc 0.98920 train_loss 0.06194\n",
      "    - test_acc  0.56500 test_loss  3.30877\n",
      "epoch 65\n",
      "    - train_acc 0.98960 train_loss 0.02589\n",
      "    - test_acc  0.55540 test_loss  3.10492\n",
      "epoch 66\n",
      "    - train_acc 0.98630 train_loss 0.04700\n",
      "    - test_acc  0.55840 test_loss  3.38483\n",
      "epoch 67\n",
      "    - train_acc 0.97630 train_loss 0.11479\n",
      "    - test_acc  0.54460 test_loss  3.07178\n",
      "epoch 68\n",
      "    - train_acc 0.97020 train_loss 0.06711\n",
      "    - test_acc  0.55120 test_loss  3.00281\n",
      "epoch 69\n",
      "    - train_acc 0.98060 train_loss 0.06454\n",
      "    - test_acc  0.55450 test_loss  3.28298\n",
      "epoch 70\n",
      "    - train_acc 0.98920 train_loss 0.05525\n",
      "    - test_acc  0.56050 test_loss  3.05622\n",
      "epoch 71\n",
      "    - train_acc 0.99060 train_loss 0.01129\n",
      "    - test_acc  0.56270 test_loss  3.51629\n",
      "epoch 72\n",
      "    - train_acc 0.99380 train_loss 0.01688\n",
      "    - test_acc  0.57190 test_loss  2.83973\n",
      "epoch 73\n",
      "    - train_acc 0.99590 train_loss 0.01331\n",
      "    - test_acc  0.56980 test_loss  3.16761\n",
      "epoch 74\n",
      "    - train_acc 0.99630 train_loss 0.00989\n",
      "    - test_acc  0.57090 test_loss  3.09235\n",
      "epoch 75\n",
      "    - train_acc 0.99640 train_loss 0.00477\n",
      "    - test_acc  0.57880 test_loss  3.51937\n",
      "epoch 76\n",
      "    - train_acc 0.99680 train_loss 0.01686\n",
      "    - test_acc  0.57310 test_loss  4.02668\n",
      "epoch 77\n",
      "    - train_acc 0.99660 train_loss 0.01016\n",
      "    - test_acc  0.57090 test_loss  3.11101\n",
      "epoch 78\n",
      "    - train_acc 0.99700 train_loss 0.01110\n",
      "    - test_acc  0.56900 test_loss  3.66709\n",
      "epoch 79\n",
      "    - train_acc 0.99400 train_loss 0.02293\n",
      "    - test_acc  0.56960 test_loss  3.78964\n",
      "epoch 80\n",
      "    - train_acc 0.99190 train_loss 0.02960\n",
      "    - test_acc  0.56430 test_loss  4.23688\n"
     ]
    },
    {
     "data": {
      "image/png": "[encoded data removed]",
      "text/plain": [
       "<Figure size 432x288 with 1 Axes>"
      ]
     },
     "metadata": {
      "needs_background": "light"
     },
     "output_type": "display_data"
    },
    {
     "data": {
      "image/png": "[encoded data removed]",
      "text/plain": [
       "<Figure size 432x288 with 1 Axes>"
      ]
     },
     "metadata": {
      "needs_background": "light"
     },
     "output_type": "display_data"
    },
    {
     "name": "stdout",
     "output_type": "stream",
     "text": [
      "{'Victim': 'resnet50', 'Dataset': 'cifar_10', 'QueryType': 'random', 'QuerySize': 10000, 'Queried Output': 'Labels', 'Attacker': 'resnet34', 'Train Loss': 0.0296, 'Train Accuracy': 99.19, 'Test Loss': 4.2369, 'Test Accuracy': 56.43}\n"
     ]
    }
   ],
   "source": [
    "# get dataset in dataloader\n",
    "trainloader, testloader, outputs = get_dataloader(config[\"victim\"][\"data\"])\n",
    "\n",
    "# query & save test data\n",
    "querytestloader = query_victim(config[\"victim\"], outputs, testloader, len(testloader.dataset), train=False)\n",
    "\n",
    "# query train data\n",
    "querytrainloader = query_victim(config[\"victim\"], outputs, trainloader, config[\"query_size\"], q_type=config[\"query_type\"])\n",
    "\n",
    "# initialize attacker model\n",
    "attacker = get_model(config[\"attacker\"], outputs)\n",
    "\n",
    "# train attacker model\n",
    "attacker_result = training(attacker, querytrainloader, querytestloader, config[\"epochs\"],\n",
    "                           optimizer=torch.optim.Adam(attacker.parameters(), lr=config[\"learning_rate\"]),\n",
    "                           loss=torch.nn.CrossEntropyLoss())\n",
    "\n",
    "# save & visualize model inference\n",
    "title = f'Trial-A_{config[\"attacker\"]}_{config[\"victim\"][\"model_name\"]}_{config[\"victim\"][\"data\"]}{config[\"query_type\"]}_{config[\"query_size\"]}'\n",
    "percent = save_visualize(attacker, attacker_result,title )\n",
    "results_dict={\"Victim\":config[\"victim\"][\"model_name\"],\n",
    "                \"Dataset\":config[\"victim\"][\"data\"],\n",
    "                \"QueryType\": config[\"query_type\"],\n",
    "                \"QuerySize\": config[\"query_size\"],\n",
    "                \"Queried Output\": 'Labels',\n",
    "                \"Attacker\": config[\"attacker\"],\n",
    "                \"Train Loss\": percent[0],\n",
    "                \"Train Accuracy\": percent[1],\n",
    "                \"Test Loss\": percent[2],\n",
    "                \"Test Accuracy\": percent[3]}\n",
    "print(results_dict)"
   ]
  },
  {
   "cell_type": "markdown",
   "metadata": {},
   "source": [
    "# Parameters"
   ]
  },
  {
   "cell_type": "raw",
   "metadata": {},
   "source": [
    "Case 1: Corseset vs Random ,\n",
    "    Attacker - Resnet34\n",
    "    Victim - Resnet50\n",
    "    klogits - 0\n",
    "    Datasest - Cifar10, Cifar100\n",
    "    QueryType - Random, Coreset\n",
    "    Query Size - 10k, 20k, 30k, 40k, 50k"
   ]
  },
  {
   "cell_type": "code",
   "execution_count": null,
   "metadata": {},
   "outputs": [],
   "source": [
    "parameters = {\n",
    "        \"query_size\": [10000, 20000, 30000, 40000, 50000],\n",
    "        \"query_type\": ['random','coreset'],\n",
    "        \"victim\":[{ \"data\": CIFAR_10, \"model_name\": RESNET50},\n",
    "                  {\"data\": CIFAR_100, \"model_name\": RESNET50 }],\n",
    "        \"attacker\":[RESNET34]\n",
    "}"
   ]
  },
  {
   "cell_type": "raw",
   "metadata": {},
   "source": [
    "Case 2 : Victim vs Attacker\n",
    "    Dataset - Cifar10\n",
    "    klogits - 0\n",
    "    QueryType - Random\n",
    "    Query Size - 10k, 30k, 50k\n",
    "    Victim - R34, R50, VGG19\n",
    "    Attacker - R34, R50, VGG19"
   ]
  },
  {
   "cell_type": "raw",
   "metadata": {},
   "source": [
    "Case 3 : K-Logits vs Labels\n",
    "    Dataset - Cifar10\n",
    "    klogits - 0, 3, 10\n",
    "    QueryType - Random\n",
    "    Query Size - 10k, 30k, 50k\n",
    "    Attacker - Resnet34\n",
    "    Victim - Resnet50"
   ]
  },
  {
   "cell_type": "raw",
   "metadata": {},
   "source": [
    "Case 4 : Out of distribution Dataset\n",
    "    Dataset - ood\n",
    "    klogits - 0\n",
    "    QueryType - Random\n",
    "    Query Size - 10k, 30k, 50k\n",
    "    Attacker - Resnet34\n",
    "    Victim - Resnet50"
   ]
  },
  {
   "cell_type": "markdown",
   "metadata": {},
   "source": [
    "# Investigations"
   ]
  },
  {
   "cell_type": "code",
   "execution_count": null,
   "metadata": {
    "scrolled": false
   },
   "outputs": [],
   "source": [
    "Results = []\n",
    "# Iterate through Victim Model & Dataset\n",
    "for victim in parameters[\"victim\"]:\n",
    "    print('---------------------------------------------------------------------------')\n",
    "    # get dataset in dataloader\n",
    "    trainloader, testloader, outputs = getDataset(victim[\"data\"])\n",
    "\n",
    "    # query test data\n",
    "    querytestloader = QueryVictim(victim, outputs, testloader, len(testloader.dataset), train=False)\n",
    "\n",
    "    # Iterate through Attacker Model\n",
    "    for attacker_type in parameters[\"attacker\"]:\n",
    "        # Iterate Through Query Type\n",
    "        for querytype in parameters[\"query_type\"]:\n",
    "            # Iterate Through Query Size\n",
    "            for size in parameters[\"query_size\"]:\n",
    "                print('-----------------------------------------------------------------------------')\n",
    "                print(f'-----------------------Dataset: {victim[\"data\"]}----------------------------')\n",
    "                print(f'--------Victim: {victim[\"model_name\"]} Attacker: {attacker_type}------------')\n",
    "                print(f'---------------Query Type: {querytype} Query Size: {size}-------------------')\n",
    "\n",
    "                # query train data\n",
    "                querytrainloader = query_victim(victim, outputs, trainloader, size, q_type=querytype)\n",
    "\n",
    "                # initialize attacker model\n",
    "                attacker = get_model(attacker_type, outputs)\n",
    "\n",
    "                # train attacker model\n",
    "                attacker_result = training(attacker, querytrainloader, querytestloader, (-1, 3, 32, 32), config[\"epochs\"],\n",
    "                                           optimizer=torch.optim.Adam(attacker.parameters(), lr=config[\"learning_rate\"]),\n",
    "                                           loss=torch.nn.CrossEntropyLoss())\n",
    "\n",
    "                # save & visualize model inference\n",
    "                title = f'A_{attacker_type}_{victim[\"model_name\"]}_{victim[\"data\"]}_{querytype}_{size}'\n",
    "                percent = SaveVisualize(attacker, attacker_result, title)\n",
    "                results_dict={\"Victim\":victim[\"model_name\"],\n",
    "                                \"Dataset\":victim[\"data\"],\n",
    "                                \"QueryType\": querytype,\n",
    "                                \"QuerySize\": size,\n",
    "                                \"Queried Output\": 'Labels',\n",
    "                                \"Attacker\": attacker_type,\n",
    "                                \"Train Loss\": percent[0],\n",
    "                                \"Train Accuracy\": percent[1],\n",
    "                                \"Test Loss\": percent[2],\n",
    "                                \"Test Accuracy\": percent[3]}\n",
    "\n",
    "                print(results_dict)\n",
    "                Results.append(results_dict)\n",
    "                print('-----------------------------------------------------------------------------')"
   ]
  },
  {
   "cell_type": "code",
   "execution_count": null,
   "metadata": {
    "scrolled": false
   },
   "outputs": [],
   "source": [
    "Results"
   ]
  },
  {
   "cell_type": "code",
   "execution_count": null,
   "metadata": {},
   "outputs": [],
   "source": []
  }
 ],
 "metadata": {
  "accelerator": "GPU",
  "colab": {
   "collapsed_sections": [],
   "name": "DL_Project",
   "provenance": []
  },
  "kernelspec": {
   "display_name": "Python [conda env:root] *",
   "language": "python",
   "name": "conda-root-py"
  },
  "language_info": {
   "codemirror_mode": {
    "name": "ipython",
    "version": 3
   },
   "file_extension": ".py",
   "mimetype": "text/x-python",
   "name": "python",
   "nbconvert_exporter": "python",
   "pygments_lexer": "ipython3",
   "version": "3.7.12"
  }
 },
 "nbformat": 4,
 "nbformat_minor": 1
}
