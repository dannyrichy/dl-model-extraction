{
 "cells": [
  {
   "cell_type": "code",
   "execution_count": null,
   "metadata": {},
   "outputs": [],
   "source": [
    "import os\n",
    "os.chdir(\"../\")\n",
    "os.getcwd()"
   ]
  },
  {
   "cell_type": "code",
   "execution_count": null,
   "metadata": {
    "id": "idQmKzBgZqug"
   },
   "outputs": [],
   "source": [
    "from attacker.training import *"
   ]
  },
  {
   "cell_type": "raw",
   "metadata": {},
   "source": [
    "from adverserial.adversial import *"
   ]
  },
  {
   "cell_type": "markdown",
   "metadata": {},
   "source": [
    "# Parameters"
   ]
  },
  {
   "cell_type": "markdown",
   "metadata": {},
   "source": [
    "## Case - 1"
   ]
  },
  {
   "cell_type": "raw",
   "metadata": {},
   "source": [
    "Case 1: Corseset vs Random ,\n",
    "    Attacker - Resnet34\n",
    "    Victim - Resnet50\n",
    "    klogits - 0\n",
    "    Datasest - Cifar10, Cifar100\n",
    "    QueryType - Random, Coreset\n",
    "    Query Size - 5k, 10k, 25k, 50k"
   ]
  },
  {
   "cell_type": "raw",
   "metadata": {},
   "source": [
    "case1_cifar10_coreset = {\n",
    "        \"query_size\": [5000, 10000, 25000, 50000],\n",
    "        \"query_type\": ['coreset'],\n",
    "        \"victim\":[{ \"data\": CIFAR_10, \"model_name\": RESNET50}],\n",
    "        \"attacker\":[RESNET34],\n",
    "        \"k_logits\": [None]\n",
    "}"
   ]
  },
  {
   "cell_type": "raw",
   "metadata": {},
   "source": [
    "case1_cifar10_random = {\n",
    "        \"query_size\": [5000, 10000, 25000, 50000],\n",
    "        \"query_type\": ['random'],\n",
    "        \"victim\":[{ \"data\": CIFAR_10, \"model_name\": RESNET50}],\n",
    "        \"attacker\":[RESNET34],\n",
    "        \"k_logits\": [None]\n",
    "}"
   ]
  },
  {
   "cell_type": "raw",
   "metadata": {},
   "source": [
    "case1_cifar100 = {\n",
    "        \"query_size\": [5000, 10000, 25000, 50000],\n",
    "        \"query_type\": ['coreset','random'],\n",
    "        \"victim\":[{\"data\": CIFAR_100, \"model_name\": RESNET50 }],\n",
    "        \"attacker\":[RESNET34],\n",
    "        \"k_logits\": [None]\n",
    "}"
   ]
  },
  {
   "cell_type": "markdown",
   "metadata": {},
   "source": [
    "## Case - 2"
   ]
  },
  {
   "cell_type": "raw",
   "metadata": {},
   "source": [
    "Case 2 : Victim vs Attacker\n",
    "    Dataset - Cifar10\n",
    "    klogits - 0\n",
    "    QueryType - coreset\n",
    "    Query Size - 25k\n",
    "    Victim - R34, R50, VGG19\n",
    "    Attacker - R34, R50, VGG19"
   ]
  },
  {
   "cell_type": "raw",
   "metadata": {},
   "source": [
    "case2_v_resnet34 = {\n",
    "        \"query_size\": [25000],\n",
    "        \"query_type\": ['coreset'],\n",
    "        \"victim\":[{ \"data\": CIFAR_10, \"model_name\": RESNET34}],\n",
    "        \"attacker\":[RESNET34, RESNET50, VGG19_BN],\n",
    "        \"k_logits\": [None]\n",
    "}"
   ]
  },
  {
   "cell_type": "raw",
   "metadata": {},
   "source": [
    "case2_v_resnet50 = {\n",
    "        \"query_size\": [25000],\n",
    "        \"query_type\": ['coreset'],\n",
    "        \"victim\":[{ \"data\": CIFAR_10, \"model_name\": RESNET50}],\n",
    "        \"attacker\":[RESNET50, VGG19_BN],\n",
    "        \"k_logits\": [None]\n",
    "}"
   ]
  },
  {
   "cell_type": "raw",
   "metadata": {},
   "source": [
    "case2_v_vgg19 = {\n",
    "        \"query_size\": [25000],\n",
    "        \"query_type\": ['coreset'],\n",
    "        \"victim\":[{ \"data\": CIFAR_10, \"model_name\": VGG19_BN}],\n",
    "        \"attacker\":[RESNET34, RESNET50, VGG19_BN],\n",
    "        \"k_logits\": [None]\n",
    "}"
   ]
  },
  {
   "cell_type": "markdown",
   "metadata": {},
   "source": [
    "## Case - 3"
   ]
  },
  {
   "cell_type": "raw",
   "metadata": {},
   "source": [
    "Case 3 : K-Logits vs Labels\n",
    "    Dataset - Cifar10\n",
    "    klogits - 0, 3, 10\n",
    "    QueryType - Random\n",
    "    Query Size - 10k, 30k, 50k\n",
    "    Attacker - Resnet34\n",
    "    Victim - Resnet50"
   ]
  },
  {
   "cell_type": "raw",
   "metadata": {},
   "source": [
    "case3_logits = {\n",
    "        \"query_size\": [20000],\n",
    "        \"query_type\": ['coreset'],\n",
    "        \"victim\":[{ \"data\": CIFAR_10, \"model_name\": RESNET50}],\n",
    "        \"attacker\":[RESNET34],\n",
    "        \"k_logits\": [3, 10]\n",
    "}"
   ]
  },
  {
   "cell_type": "markdown",
   "metadata": {},
   "source": [
    "## Case - 4"
   ]
  },
  {
   "cell_type": "raw",
   "metadata": {},
   "source": [
    "Case 4 : Out of distribution Dataset\n",
    "    Dataset - ood\n",
    "    klogits - 0\n",
    "    QueryType - coreset\n",
    "    Query Size - 10k, 20k\n",
    "    Attacker - Resnet34\n",
    "    Victim - Resnet50"
   ]
  },
  {
   "cell_type": "raw",
   "metadata": {},
   "source": [
    "case4_ood = {\n",
    "        \"query_size\": [10000, 20000],\n",
    "        \"query_type\": ['coreset'],\n",
    "        \"victim\":[{ \"data\": OOD, \"model_name\": RESNET50}],\n",
    "        \"attacker\":[RESNET34],\n",
    "        \"k_logits\": [None]\n",
    "}"
   ]
  },
  {
   "cell_type": "markdown",
   "metadata": {},
   "source": [
    "## Case - 5"
   ]
  },
  {
   "cell_type": "markdown",
   "metadata": {},
   "source": [
    "Case 5 : Membership inference Transfers"
   ]
  },
  {
   "cell_type": "code",
   "execution_count": null,
   "metadata": {},
   "outputs": [],
   "source": []
  },
  {
   "cell_type": "markdown",
   "metadata": {},
   "source": [
    "## Case - 6"
   ]
  },
  {
   "cell_type": "raw",
   "metadata": {},
   "source": [
    "Case 6 : Adversarial Transfers\n",
    "    Dataset - Cifar10\n",
    "    klogits - None\n",
    "    QueryType - coreset\n",
    "    Query Size - 20k\n",
    "    Attacker - Resnet34\n",
    "    Victim - Resnet50"
   ]
  },
  {
   "cell_type": "raw",
   "metadata": {},
   "source": [
    "case4_adverserial = {\n",
    "        \"query_size\": [20000],\n",
    "        \"query_type\": ['coreset'],\n",
    "        \"victim\":[{ \"data\": CIFAR_10, \"model_name\": RESNET50}],\n",
    "        \"attacker\":[RESNET34],\n",
    "        \"k_logits\": [None]\n",
    "}"
   ]
  },
  {
   "cell_type": "markdown",
   "metadata": {},
   "source": [
    "# Investigations"
   ]
  },
  {
   "cell_type": "markdown",
   "metadata": {},
   "source": [
    "## case - 1 to 4"
   ]
  },
  {
   "cell_type": "markdown",
   "metadata": {},
   "source": [
    "investigate(parameters, verbose=True, seed=42)"
   ]
  },
  {
   "cell_type": "code",
   "execution_count": null,
   "metadata": {
    "scrolled": false
   },
   "outputs": [],
   "source": [
    "investigate(config[\"base\"], seed=42) #to run default config"
   ]
  },
  {
   "cell_type": "markdown",
   "metadata": {},
   "source": [
    "## case - 6"
   ]
  },
  {
   "cell_type": "code",
   "execution_count": null,
   "metadata": {},
   "outputs": [],
   "source": [
    "adverserial_experiment(case4_adverserial, epsilon=0.01, seed=42)"
   ]
  }
 ],
 "metadata": {
  "accelerator": "GPU",
  "colab": {
   "collapsed_sections": [],
   "name": "DL_Project",
   "provenance": []
  },
  "kernelspec": {
   "display_name": "Python [conda env:root] *",
   "language": "python",
   "name": "conda-root-py"
  },
  "language_info": {
   "codemirror_mode": {
    "name": "ipython",
    "version": 3
   },
   "file_extension": ".py",
   "mimetype": "text/x-python",
   "name": "python",
   "nbconvert_exporter": "python",
   "pygments_lexer": "ipython3",
   "version": "3.7.12"
  }
 },
 "nbformat": 4,
 "nbformat_minor": 1
}
