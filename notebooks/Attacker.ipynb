{
 "cells": [
  {
   "cell_type": "code",
   "execution_count": 1,
   "metadata": {},
   "outputs": [
    {
     "data": {
      "text/plain": [
       "'/home/Aishu/dl-model-extraction'"
      ]
     },
     "execution_count": 1,
     "metadata": {},
     "output_type": "execute_result"
    }
   ],
   "source": [
    "import os\n",
    "os.chdir(\"../\")\n",
    "os.getcwd()"
   ]
  },
  {
   "cell_type": "code",
   "execution_count": 2,
   "metadata": {
    "id": "idQmKzBgZqug"
   },
   "outputs": [],
   "source": [
    "from attacker.query import *\n",
    "from attacker.utils import *\n",
    "from victim.__init__ import *\n",
    "\n",
    "set_seed(42)"
   ]
  },
  {
   "cell_type": "markdown",
   "metadata": {
    "id": "n9SehmoStA7J"
   },
   "source": [
    "# Query victim model & Train attacker model"
   ]
  },
  {
   "cell_type": "code",
   "execution_count": 3,
   "metadata": {},
   "outputs": [],
   "source": [
    "config = {\n",
    "    \"batch_size\": 500,\n",
    "    \"learning_rate\": 0.008,\n",
    "    \"epochs\": 80,\n",
    "    \"query_size\":10000,\n",
    "    \"query_type\": 'coreset',\n",
    "    \"victim\": { \"data\": CIFAR_10,  \"model_name\": RESNET50 },\n",
    "    \"attacker\": RESNET34\n",
    "}"
   ]
  },
  {
   "cell_type": "code",
   "execution_count": 4,
   "metadata": {
    "id": "lMNfr2wZwGMF",
    "scrolled": false
   },
   "outputs": [
    {
     "name": "stdout",
     "output_type": "stream",
     "text": [
      "Files already downloaded and verified\n",
      "Files already downloaded and verified\n",
      "Loading queried cifar_10 dataset with resnet50 victim\n",
      "    - input:10000 queried:10000\n",
      "Sample using None with query size 10000\n",
      "    - input:10000 sampled:10000\n",
      "Loading queried cifar_10 dataset with resnet50 victim\n",
      "    - input:50000 queried:50000\n",
      "Sample using coreset with query size 10000\n",
      "    - input:50000 sampled:10000\n",
      "epoch 1\n",
      "    - train_acc 0.13590 train_loss 2.34062\n",
      "    - test_acc  0.08050 test_loss  24048.40234\n",
      "epoch 2\n",
      "    - train_acc 0.20600 train_loss 2.15605\n",
      "    - test_acc  0.15190 test_loss  12.49810\n",
      "epoch 3\n",
      "    - train_acc 0.24100 train_loss 2.02249\n",
      "    - test_acc  0.17270 test_loss  2.52995\n",
      "epoch 4\n",
      "    - train_acc 0.29210 train_loss 2.03531\n",
      "    - test_acc  0.29100 test_loss  2.77154\n",
      "epoch 5\n",
      "    - train_acc 0.33440 train_loss 1.67510\n",
      "    - test_acc  0.34470 test_loss  1.71550\n",
      "epoch 6\n",
      "    - train_acc 0.30170 train_loss 1.99919\n",
      "    - test_acc  0.27740 test_loss  9.17443\n",
      "epoch 7\n",
      "    - train_acc 0.33630 train_loss 1.68897\n",
      "    - test_acc  0.35830 test_loss  1.91615\n",
      "epoch 8\n",
      "    - train_acc 0.38160 train_loss 1.62046\n",
      "    - test_acc  0.34950 test_loss  1.77246\n",
      "epoch 9\n",
      "    - train_acc 0.40960 train_loss 1.65526\n",
      "    - test_acc  0.38810 test_loss  1.71575\n",
      "epoch 10\n",
      "    - train_acc 0.43290 train_loss 1.61969\n",
      "    - test_acc  0.39730 test_loss  1.58147\n",
      "epoch 11\n",
      "    - train_acc 0.43710 train_loss 1.40166\n",
      "    - test_acc  0.40650 test_loss  1.63344\n",
      "epoch 12\n",
      "    - train_acc 0.47930 train_loss 1.35627\n",
      "    - test_acc  0.46200 test_loss  1.51806\n",
      "epoch 13\n",
      "    - train_acc 0.51590 train_loss 1.36831\n",
      "    - test_acc  0.44310 test_loss  1.52151\n",
      "epoch 14\n",
      "    - train_acc 0.53570 train_loss 1.32685\n",
      "    - test_acc  0.40690 test_loss  1.76636\n",
      "epoch 15\n",
      "    - train_acc 0.55600 train_loss 1.23080\n",
      "    - test_acc  0.49020 test_loss  1.38160\n",
      "epoch 16\n",
      "    - train_acc 0.58690 train_loss 1.30782\n",
      "    - test_acc  0.49020 test_loss  1.42304\n",
      "epoch 17\n",
      "    - train_acc 0.61760 train_loss 1.14867\n",
      "    - test_acc  0.49720 test_loss  1.44277\n",
      "epoch 18\n",
      "    - train_acc 0.63900 train_loss 1.01500\n",
      "    - test_acc  0.52150 test_loss  1.40235\n",
      "epoch 19\n",
      "    - train_acc 0.66520 train_loss 0.89596\n",
      "    - test_acc  0.48130 test_loss  1.63659\n",
      "epoch 20\n",
      "    - train_acc 0.70320 train_loss 0.92322\n",
      "    - test_acc  0.51500 test_loss  1.51208\n",
      "epoch 21\n",
      "    - train_acc 0.72880 train_loss 0.82031\n",
      "    - test_acc  0.51900 test_loss  1.60365\n",
      "epoch 22\n",
      "    - train_acc 0.74630 train_loss 0.75354\n",
      "    - test_acc  0.52480 test_loss  1.63392\n",
      "epoch 23\n",
      "    - train_acc 0.77990 train_loss 0.56211\n",
      "    - test_acc  0.52200 test_loss  1.78050\n",
      "epoch 24\n",
      "    - train_acc 0.81410 train_loss 0.64715\n",
      "    - test_acc  0.52410 test_loss  1.87289\n",
      "epoch 25\n",
      "    - train_acc 0.83410 train_loss 0.51313\n",
      "    - test_acc  0.52610 test_loss  1.92035\n",
      "epoch 26\n",
      "    - train_acc 0.83720 train_loss 0.50244\n",
      "    - test_acc  0.51690 test_loss  1.91860\n",
      "epoch 27\n",
      "    - train_acc 0.87220 train_loss 0.34002\n",
      "    - test_acc  0.52540 test_loss  2.14059\n",
      "epoch 28\n",
      "    - train_acc 0.88490 train_loss 0.33337\n",
      "    - test_acc  0.52590 test_loss  2.05798\n",
      "epoch 29\n",
      "    - train_acc 0.90770 train_loss 0.18974\n",
      "    - test_acc  0.53960 test_loss  2.24522\n",
      "epoch 30\n",
      "    - train_acc 0.92130 train_loss 0.27001\n",
      "    - test_acc  0.55190 test_loss  2.06458\n",
      "epoch 31\n",
      "    - train_acc 0.92280 train_loss 0.17597\n",
      "    - test_acc  0.54170 test_loss  2.28474\n",
      "epoch 32\n",
      "    - train_acc 0.94010 train_loss 0.17168\n",
      "    - test_acc  0.55070 test_loss  2.53460\n",
      "epoch 33\n",
      "    - train_acc 0.95000 train_loss 0.13162\n",
      "    - test_acc  0.55060 test_loss  2.44532\n",
      "epoch 34\n",
      "    - train_acc 0.95380 train_loss 0.18025\n",
      "    - test_acc  0.55520 test_loss  2.50523\n",
      "epoch 35\n",
      "    - train_acc 0.95340 train_loss 0.15256\n",
      "    - test_acc  0.54850 test_loss  2.85552\n",
      "epoch 36\n",
      "    - train_acc 0.96270 train_loss 0.12915\n",
      "    - test_acc  0.57210 test_loss  2.42717\n",
      "epoch 37\n",
      "    - train_acc 0.96970 train_loss 0.12358\n",
      "    - test_acc  0.56710 test_loss  2.76465\n",
      "epoch 38\n",
      "    - train_acc 0.97260 train_loss 0.07442\n",
      "    - test_acc  0.55680 test_loss  2.76206\n",
      "epoch 39\n",
      "    - train_acc 0.96200 train_loss 0.15725\n",
      "    - test_acc  0.56010 test_loss  2.82790\n",
      "epoch 40\n",
      "    - train_acc 0.96150 train_loss 0.13460\n",
      "    - test_acc  0.56000 test_loss  3.00081\n",
      "epoch 41\n",
      "    - train_acc 0.96320 train_loss 0.11179\n",
      "    - test_acc  0.54710 test_loss  2.76089\n",
      "epoch 42\n",
      "    - train_acc 0.96990 train_loss 0.08590\n",
      "    - test_acc  0.56230 test_loss  3.04667\n",
      "epoch 43\n",
      "    - train_acc 0.98120 train_loss 0.03300\n",
      "    - test_acc  0.57120 test_loss  2.28552\n",
      "epoch 44\n",
      "    - train_acc 0.98720 train_loss 0.03558\n",
      "    - test_acc  0.59320 test_loss  2.76608\n",
      "epoch 45\n",
      "    - train_acc 0.99060 train_loss 0.02004\n",
      "    - test_acc  0.57150 test_loss  2.94751\n",
      "epoch 46\n",
      "    - train_acc 0.98980 train_loss 0.05435\n",
      "    - test_acc  0.57880 test_loss  2.76506\n",
      "epoch 47\n",
      "    - train_acc 0.98550 train_loss 0.03447\n",
      "    - test_acc  0.57390 test_loss  2.93692\n",
      "epoch 48\n",
      "    - train_acc 0.98910 train_loss 0.02484\n",
      "    - test_acc  0.57060 test_loss  2.58212\n",
      "epoch 49\n",
      "    - train_acc 0.98840 train_loss 0.03822\n",
      "    - test_acc  0.56420 test_loss  3.05210\n",
      "epoch 50\n",
      "    - train_acc 0.98800 train_loss 0.02017\n",
      "    - test_acc  0.56860 test_loss  3.18802\n",
      "epoch 51\n",
      "    - train_acc 0.98500 train_loss 0.06698\n",
      "    - test_acc  0.57540 test_loss  2.80669\n",
      "epoch 52\n",
      "    - train_acc 0.98530 train_loss 0.03623\n",
      "    - test_acc  0.55760 test_loss  3.71496\n",
      "epoch 53\n",
      "    - train_acc 0.98230 train_loss 0.06005\n",
      "    - test_acc  0.56880 test_loss  2.81452\n",
      "epoch 54\n",
      "    - train_acc 0.98240 train_loss 0.06293\n",
      "    - test_acc  0.57840 test_loss  2.93260\n",
      "epoch 55\n",
      "    - train_acc 0.98440 train_loss 0.02128\n",
      "    - test_acc  0.57520 test_loss  3.34198\n",
      "epoch 56\n",
      "    - train_acc 0.98190 train_loss 0.03046\n",
      "    - test_acc  0.56110 test_loss  3.35792\n",
      "epoch 57\n",
      "    - train_acc 0.98470 train_loss 0.04626\n",
      "    - test_acc  0.58030 test_loss  3.21078\n",
      "epoch 58\n",
      "    - train_acc 0.98880 train_loss 0.06775\n",
      "    - test_acc  0.58660 test_loss  2.65927\n",
      "epoch 59\n",
      "    - train_acc 0.99120 train_loss 0.01063\n",
      "    - test_acc  0.57880 test_loss  3.02178\n",
      "epoch 60\n",
      "    - train_acc 0.98920 train_loss 0.04930\n",
      "    - test_acc  0.57250 test_loss  3.18194\n",
      "epoch 61\n",
      "    - train_acc 0.99210 train_loss 0.03241\n",
      "    - test_acc  0.57640 test_loss  3.18120\n",
      "epoch 62\n",
      "    - train_acc 0.99220 train_loss 0.04488\n",
      "    - test_acc  0.57370 test_loss  3.34484\n",
      "epoch 63\n",
      "    - train_acc 0.99140 train_loss 0.01634\n",
      "    - test_acc  0.57220 test_loss  2.99710\n",
      "epoch 64\n",
      "    - train_acc 0.99130 train_loss 0.05159\n",
      "    - test_acc  0.57120 test_loss  2.97377\n",
      "epoch 65\n",
      "    - train_acc 0.99120 train_loss 0.02307\n",
      "    - test_acc  0.57850 test_loss  3.05670\n",
      "epoch 66\n",
      "    - train_acc 0.99320 train_loss 0.02218\n",
      "    - test_acc  0.58730 test_loss  2.78508\n",
      "epoch 67\n",
      "    - train_acc 0.99450 train_loss 0.02220\n",
      "    - test_acc  0.57620 test_loss  3.21337\n",
      "epoch 68\n",
      "    - train_acc 0.99300 train_loss 0.02305\n",
      "    - test_acc  0.57640 test_loss  3.15826\n",
      "epoch 69\n",
      "    - train_acc 0.99420 train_loss 0.01977\n",
      "    - test_acc  0.58060 test_loss  3.17538\n",
      "epoch 70\n",
      "    - train_acc 0.99400 train_loss 0.01885\n",
      "    - test_acc  0.57970 test_loss  3.16528\n",
      "epoch 71\n",
      "    - train_acc 0.99360 train_loss 0.02289\n",
      "    - test_acc  0.57970 test_loss  3.39479\n",
      "epoch 72\n",
      "    - train_acc 0.99400 train_loss 0.02431\n",
      "    - test_acc  0.57970 test_loss  3.24500\n",
      "epoch 73\n",
      "    - train_acc 0.99420 train_loss 0.02836\n",
      "    - test_acc  0.58220 test_loss  2.80907\n",
      "epoch 74\n",
      "    - train_acc 0.99530 train_loss 0.03014\n",
      "    - test_acc  0.57980 test_loss  2.95655\n",
      "epoch 75\n",
      "    - train_acc 0.99450 train_loss 0.01512\n",
      "    - test_acc  0.58160 test_loss  3.28405\n",
      "epoch 76\n",
      "    - train_acc 0.99300 train_loss 0.03204\n",
      "    - test_acc  0.57960 test_loss  3.59259\n",
      "epoch 77\n",
      "    - train_acc 0.98890 train_loss 0.03825\n",
      "    - test_acc  0.57130 test_loss  3.29691\n",
      "epoch 78\n",
      "    - train_acc 0.98500 train_loss 0.05594\n",
      "    - test_acc  0.56440 test_loss  3.27857\n",
      "epoch 79\n",
      "    - train_acc 0.98010 train_loss 0.08181\n",
      "    - test_acc  0.55120 test_loss  2.90214\n",
      "epoch 80\n",
      "    - train_acc 0.98340 train_loss 0.03888\n",
      "    - test_acc  0.54360 test_loss  2.94516\n"
     ]
    },
    {
     "data": {
      "image/png": "[encoded data removed]",
      "text/plain": [
       "<Figure size 432x288 with 1 Axes>"
      ]
     },
     "metadata": {
      "needs_background": "light"
     },
     "output_type": "display_data"
    },
    {
     "data": {
      "image/png": "[encoded data removed]",
      "text/plain": [
       "<Figure size 432x288 with 1 Axes>"
      ]
     },
     "metadata": {
      "needs_background": "light"
     },
     "output_type": "display_data"
    },
    {
     "name": "stdout",
     "output_type": "stream",
     "text": [
      "{'Victim': 'resnet50', 'Dataset': 'cifar_10', 'QueryType': 'coreset', 'QuerySize': 10000, 'Queried Output': 'Labels', 'Attacker': 'resnet34', 'Train Loss': 0.0389, 'Train Accuracy': 98.34, 'Test Loss': 2.9452, 'Test Accuracy': 54.36}\n"
     ]
    }
   ],
   "source": [
    "# get dataset in dataloader\n",
    "trainloader, testloader, outputs = get_dataloader(config[\"victim\"][\"data\"])\n",
    "\n",
    "# query & save test data\n",
    "querytestloader = query_victim(config[\"victim\"], outputs, testloader, len(testloader.dataset), train=False)\n",
    "\n",
    "# query train data\n",
    "querytrainloader = query_victim(config[\"victim\"], outputs, trainloader, config[\"query_size\"], q_type=config[\"query_type\"])\n",
    "\n",
    "# initialize attacker model\n",
    "attacker = get_model(config[\"attacker\"], outputs)\n",
    "\n",
    "# train attacker model\n",
    "attacker_result = training(attacker, querytrainloader, querytestloader, config[\"epochs\"],\n",
    "                           optimizer=torch.optim.Adam(attacker.parameters(), lr=config[\"learning_rate\"]),\n",
    "                           loss=torch.nn.CrossEntropyLoss())\n",
    "\n",
    "# save & visualize model inference\n",
    "title = f'Trial-A_{config[\"attacker\"]}_{config[\"victim\"][\"model_name\"]}_{config[\"victim\"][\"data\"]}{config[\"query_type\"]}_{config[\"query_size\"]}'\n",
    "percent = save_visualize(attacker, attacker_result,title )\n",
    "results_dict={\"Victim\":config[\"victim\"][\"model_name\"],\n",
    "                \"Dataset\":config[\"victim\"][\"data\"],\n",
    "                \"QueryType\": config[\"query_type\"],\n",
    "                \"QuerySize\": config[\"query_size\"],\n",
    "                \"Queried Output\": 'Labels',\n",
    "                \"Attacker\": config[\"attacker\"],\n",
    "                \"Train Loss\": percent[0],\n",
    "                \"Train Accuracy\": percent[1],\n",
    "                \"Test Loss\": percent[2],\n",
    "                \"Test Accuracy\": percent[3]}\n",
    "print(results_dict)"
   ]
  },
  {
   "cell_type": "markdown",
   "metadata": {},
   "source": [
    "# Parameters"
   ]
  },
  {
   "cell_type": "raw",
   "metadata": {},
   "source": [
    "Case 1: Corseset vs Random ,\n",
    "    Attacker - Resnet34\n",
    "    Victim - Resnet50\n",
    "    klogits - 0\n",
    "    Datasest - Cifar10, Cifar100\n",
    "    QueryType - Random, Coreset\n",
    "    Query Size - 10k, 20k, 30k, 40k, 50k"
   ]
  },
  {
   "cell_type": "code",
   "execution_count": null,
   "metadata": {},
   "outputs": [],
   "source": [
    "parameters = {\n",
    "        \"query_size\": [10000, 20000, 30000, 40000, 50000],\n",
    "        \"query_type\": ['coreset','random'],\n",
    "        \"victim\":[{ \"data\": CIFAR_10, \"model_name\": RESNET50},\n",
    "                  {\"data\": CIFAR_100, \"model_name\": RESNET50 }],\n",
    "        \"attacker\":[RESNET34]\n",
    "}"
   ]
  },
  {
   "cell_type": "raw",
   "metadata": {},
   "source": [
    "Case 2 : Victim vs Attacker\n",
    "    Dataset - Cifar10\n",
    "    klogits - 0\n",
    "    QueryType - Random\n",
    "    Query Size - 10k, 30k, 50k\n",
    "    Victim - R34, R50, VGG19\n",
    "    Attacker - R34, R50, VGG19"
   ]
  },
  {
   "cell_type": "raw",
   "metadata": {},
   "source": [
    "Case 3 : K-Logits vs Labels\n",
    "    Dataset - Cifar10\n",
    "    klogits - 0, 3, 10\n",
    "    QueryType - Random\n",
    "    Query Size - 10k, 30k, 50k\n",
    "    Attacker - Resnet34\n",
    "    Victim - Resnet50"
   ]
  },
  {
   "cell_type": "raw",
   "metadata": {},
   "source": [
    "Case 4 : Out of distribution Dataset\n",
    "    Dataset - ood\n",
    "    klogits - 0\n",
    "    QueryType - Random\n",
    "    Query Size - 10k, 30k, 50k\n",
    "    Attacker - Resnet34\n",
    "    Victim - Resnet50"
   ]
  },
  {
   "cell_type": "markdown",
   "metadata": {},
   "source": [
    "# Investigations"
   ]
  },
  {
   "cell_type": "code",
   "execution_count": null,
   "metadata": {
    "scrolled": false
   },
   "outputs": [],
   "source": [
    "Results = []\n",
    "# Iterate through Victim Model & Dataset\n",
    "for victim in parameters[\"victim\"]:\n",
    "    print('---------------------------------------------------------------------------')\n",
    "    # get dataset in dataloader\n",
    "    trainloader, testloader, outputs = getDataset(victim[\"data\"])\n",
    "\n",
    "    # query test data\n",
    "    querytestloader = QueryVictim(victim, outputs, testloader, len(testloader.dataset), train=False)\n",
    "\n",
    "    # Iterate through Attacker Model\n",
    "    for attacker_type in parameters[\"attacker\"]:\n",
    "        # Iterate Through Query Type\n",
    "        for querytype in parameters[\"query_type\"]:\n",
    "            # Iterate Through Query Size\n",
    "            for size in parameters[\"query_size\"]:\n",
    "                print('-----------------------------------------------------------------------------')\n",
    "                print(f'-----------------------Dataset: {victim[\"data\"]}----------------------------')\n",
    "                print(f'--------Victim: {victim[\"model_name\"]} Attacker: {attacker_type}------------')\n",
    "                print(f'---------------Query Type: {querytype} Query Size: {size}-------------------')\n",
    "\n",
    "                # query train data\n",
    "                querytrainloader = query_victim(victim, outputs, trainloader, size, q_type=querytype)\n",
    "\n",
    "                # initialize attacker model\n",
    "                attacker = get_model(attacker_type, outputs)\n",
    "\n",
    "                # train attacker model\n",
    "                attacker_result = training(attacker, querytrainloader, querytestloader, (-1, 3, 32, 32), config[\"epochs\"],\n",
    "                                           optimizer=torch.optim.Adam(attacker.parameters(), lr=config[\"learning_rate\"]),\n",
    "                                           loss=torch.nn.CrossEntropyLoss())\n",
    "\n",
    "                # save & visualize model inference\n",
    "                title = f'A_{attacker_type}_{victim[\"model_name\"]}_{victim[\"data\"]}_{querytype}_{size}'\n",
    "                percent = SaveVisualize(attacker, attacker_result, title)\n",
    "                results_dict={\"Victim\":victim[\"model_name\"],\n",
    "                                \"Dataset\":victim[\"data\"],\n",
    "                                \"QueryType\": querytype,\n",
    "                                \"QuerySize\": size,\n",
    "                                \"Queried Output\": 'Labels',\n",
    "                                \"Attacker\": attacker_type,\n",
    "                                \"Train Loss\": percent[0],\n",
    "                                \"Train Accuracy\": percent[1],\n",
    "                                \"Test Loss\": percent[2],\n",
    "                                \"Test Accuracy\": percent[3]}\n",
    "\n",
    "                print(results_dict)\n",
    "                Results.append(results_dict)\n",
    "                print('-----------------------------------------------------------------------------')"
   ]
  },
  {
   "cell_type": "code",
   "execution_count": null,
   "metadata": {
    "scrolled": false
   },
   "outputs": [],
   "source": [
    "Results"
   ]
  },
  {
   "cell_type": "code",
   "execution_count": null,
   "metadata": {},
   "outputs": [],
   "source": []
  }
 ],
 "metadata": {
  "accelerator": "GPU",
  "colab": {
   "collapsed_sections": [],
   "name": "DL_Project",
   "provenance": []
  },
  "kernelspec": {
   "display_name": "Python [conda env:root] *",
   "language": "python",
   "name": "conda-root-py"
  },
  "language_info": {
   "codemirror_mode": {
    "name": "ipython",
    "version": 3
   },
   "file_extension": ".py",
   "mimetype": "text/x-python",
   "name": "python",
   "nbconvert_exporter": "python",
   "pygments_lexer": "ipython3",
   "version": "3.7.12"
  }
 },
 "nbformat": 4,
 "nbformat_minor": 1
}
